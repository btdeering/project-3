{
 "cells": [
  {
   "cell_type": "code",
   "execution_count": 1,
   "metadata": {},
   "outputs": [],
   "source": [
    "# Import dependencies\n",
    "import pandas as pd\n",
    "import numpy as np\n",
    "pd.set_option('max_colwidth', 400)\n",
    "from pymongo import MongoClient\n",
    "from pprint import pprint\n",
    "import json"
   ]
  },
  {
   "attachments": {},
   "cell_type": "markdown",
   "metadata": {},
   "source": [
    "Import the data provided in the `2022.json` file from your Terminal. Name the database `covid_2022` and the collection `nations`.\n",
    "\n",
    "Within this markdown cell, copy the line of text you used to import the data from your Terminal. This way, future analysts will be able to repeat your process.\n",
    "\n",
    "e.g.: Import the dataset with mongoimport --type json -d covid_2022 -c nations --drop --jsonArray 2022.json"
   ]
  },
  {
   "cell_type": "code",
   "execution_count": 2,
   "metadata": {},
   "outputs": [
    {
     "name": "stdout",
     "output_type": "stream",
     "text": [
      "['admin', 'config', 'covid_2021', 'covid_2022', 'local', 'met', 'uk_food']\n"
     ]
    }
   ],
   "source": [
    "# Create an instance of MongoClient\n",
    "mongo = MongoClient(port=27017)\n",
    "\n",
    "# confirm that our new database was created\n",
    "print(mongo.list_database_names())"
   ]
  },
  {
   "cell_type": "code",
   "execution_count": 3,
   "metadata": {},
   "outputs": [],
   "source": [
    "# mongo.drop_database('covid_2021')\n",
    "# mongo.list_database_names()"
   ]
  },
  {
   "cell_type": "code",
   "execution_count": 4,
   "metadata": {},
   "outputs": [],
   "source": [
    "# assign the uk_food database to a variable name\n",
    "db = mongo['covid_2022']"
   ]
  },
  {
   "cell_type": "code",
   "execution_count": 5,
   "metadata": {},
   "outputs": [
    {
     "name": "stdout",
     "output_type": "stream",
     "text": [
      "['nations']\n"
     ]
    }
   ],
   "source": [
    "# review the collections in our database\n",
    "print(db.list_collection_names())"
   ]
  },
  {
   "cell_type": "code",
   "execution_count": 6,
   "metadata": {},
   "outputs": [],
   "source": [
    "# assign the collection to a variable\n",
    "nations = db['nations']"
   ]
  },
  {
   "cell_type": "code",
   "execution_count": 7,
   "metadata": {},
   "outputs": [
    {
     "name": "stdout",
     "output_type": "stream",
     "text": [
      "{'Active': None,\n",
      " 'Admin2': '',\n",
      " 'Case_Fatality_Ratio': '4.652545428096163',\n",
      " 'Combined_Key': 'Afghanistan',\n",
      " 'Confirmed': 158107,\n",
      " 'Country_Region': 'Afghanistan',\n",
      " 'Deaths': 7356,\n",
      " 'FIPS': None,\n",
      " 'Incident_Rate': '406.1488261213084',\n",
      " 'Last_Update': '2022-01-02 04:20:52',\n",
      " 'Lat': '33.93911',\n",
      " 'Long_': '67.709953',\n",
      " 'Province_State': '',\n",
      " 'Recovered': None,\n",
      " '_id': ObjectId('64a206c68c92db14e7753cae')}\n"
     ]
    }
   ],
   "source": [
    "pprint(db.nations.find_one())"
   ]
  },
  {
   "cell_type": "code",
   "execution_count": 12,
   "metadata": {},
   "outputs": [
    {
     "data": {
      "text/plain": [
       "<pymongo.results.UpdateResult at 0x20aa78e5760>"
      ]
     },
     "execution_count": 12,
     "metadata": {},
     "output_type": "execute_result"
    }
   ],
   "source": [
    "nations.update_many({}, [\n",
    "    {\n",
    "        '$set': {\n",
    "            'Long_': {\n",
    "                '$cond': [\n",
    "                    { '$ne': ['$Long_', ''] },\n",
    "                    { '$toDouble': '$Long_' },\n",
    "                    None\n",
    "                ]\n",
    "            },\n",
    "            'Lat': {\n",
    "                '$cond': [\n",
    "                    { '$ne': ['$Lat', ''] },\n",
    "                    { '$toDouble': '$Lat' },\n",
    "                    None\n",
    "                ]\n",
    "            },\n",
    "            'Case_Fatality_Ratio': {\n",
    "                '$cond': [\n",
    "                    { '$ne': ['$Case_Fatality_Ratio', ''] },\n",
    "                    { '$toDouble': '$Case_Fatality_Ratio' },\n",
    "                    None\n",
    "                ]\n",
    "            }\n",
    "        }\n",
    "    }\n",
    "])\n"
   ]
  },
  {
   "cell_type": "code",
   "execution_count": 13,
   "metadata": {},
   "outputs": [
    {
     "name": "stdout",
     "output_type": "stream",
     "text": [
      "{'Active': None,\n",
      " 'Admin2': '',\n",
      " 'Case_Fatality_Ratio': 4.652545428096163,\n",
      " 'Combined_Key': 'Afghanistan',\n",
      " 'Confirmed': 158107,\n",
      " 'Country_Region': 'Afghanistan',\n",
      " 'Deaths': 7356,\n",
      " 'FIPS': None,\n",
      " 'Incident_Rate': '406.1488261213084',\n",
      " 'Last_Update': '2022-01-02 04:20:52',\n",
      " 'Lat': 33.93911,\n",
      " 'Long_': 67.709953,\n",
      " 'Province_State': '',\n",
      " 'Recovered': None,\n",
      " '_id': ObjectId('64a206c68c92db14e7753cae')}\n"
     ]
    }
   ],
   "source": [
    "pprint(db.nations.find_one())"
   ]
  },
  {
   "cell_type": "code",
   "execution_count": 14,
   "metadata": {},
   "outputs": [
    {
     "name": "stdout",
     "output_type": "stream",
     "text": [
      "[{'Active': None,\n",
      "  'Admin2': 'Bibb',\n",
      "  'Case_Fatality_Ratio': 2.0957423339951466,\n",
      "  'Combined_Key': 'Bibb, Alabama, US',\n",
      "  'Confirmed': 4533,\n",
      "  'Country_Region': 'US',\n",
      "  'Deaths': 95,\n",
      "  'FIPS': 1007,\n",
      "  'Incident_Rate': '20242.029114941502',\n",
      "  'Last_Update': '2022-01-02 04:20:52',\n",
      "  'Lat': 32.99642064,\n",
      "  'Long_': -87.12511459999996,\n",
      "  'Province_State': 'Alabama',\n",
      "  'Recovered': None,\n",
      "  '_id': ObjectId('64a206c68c92db14e7753f52')},\n",
      " {'Active': None,\n",
      "  'Admin2': 'Blount',\n",
      "  'Case_Fatality_Ratio': 1.7590618336886994,\n",
      "  'Combined_Key': 'Blount, Alabama, US',\n",
      "  'Confirmed': 11256,\n",
      "  'Country_Region': 'US',\n",
      "  'Deaths': 198,\n",
      "  'FIPS': 1009,\n",
      "  'Incident_Rate': '19465.292429011173',\n",
      "  'Last_Update': '2022-01-02 04:20:52',\n",
      "  'Lat': 33.98210918,\n",
      "  'Long_': -86.56790593,\n",
      "  'Province_State': 'Alabama',\n",
      "  'Recovered': None,\n",
      "  '_id': ObjectId('64a206c68c92db14e7753f53')},\n",
      " {'Active': None,\n",
      "  'Admin2': 'Autauga',\n",
      "  'Case_Fatality_Ratio': 1.4521691777092032,\n",
      "  'Combined_Key': 'Autauga, Alabama, US',\n",
      "  'Confirmed': 11018,\n",
      "  'Country_Region': 'US',\n",
      "  'Deaths': 160,\n",
      "  'FIPS': 1001,\n",
      "  'Incident_Rate': '19721.13336555156',\n",
      "  'Last_Update': '2022-01-02 04:20:52',\n",
      "  'Lat': 32.53952745,\n",
      "  'Long_': -86.64408227,\n",
      "  'Province_State': 'Alabama',\n",
      "  'Recovered': None,\n",
      "  '_id': ObjectId('64a206c68c92db14e7753f50')},\n",
      " {'Active': None,\n",
      "  'Admin2': 'Baldwin',\n",
      "  'Case_Fatality_Ratio': 1.4858059181679237,\n",
      "  'Combined_Key': 'Baldwin, Alabama, US',\n",
      "  'Confirmed': 39911,\n",
      "  'Country_Region': 'US',\n",
      "  'Deaths': 593,\n",
      "  'FIPS': 1003,\n",
      "  'Incident_Rate': '17878.548966555274',\n",
      "  'Last_Update': '2022-01-02 04:20:52',\n",
      "  'Lat': 30.72774991,\n",
      "  'Long_': -87.72207058,\n",
      "  'Province_State': 'Alabama',\n",
      "  'Recovered': None,\n",
      "  '_id': ObjectId('64a206c68c92db14e7753f4f')},\n",
      " {'Active': None,\n",
      "  'Admin2': 'Barbour',\n",
      "  'Case_Fatality_Ratio': 2.098445595854922,\n",
      "  'Combined_Key': 'Barbour, Alabama, US',\n",
      "  'Confirmed': 3860,\n",
      "  'Country_Region': 'US',\n",
      "  'Deaths': 81,\n",
      "  'FIPS': 1005,\n",
      "  'Incident_Rate': '15636.393097302114',\n",
      "  'Last_Update': '2022-01-02 04:20:52',\n",
      "  'Lat': 31.868263,\n",
      "  'Long_': -85.3871286,\n",
      "  'Province_State': 'Alabama',\n",
      "  'Recovered': None,\n",
      "  '_id': ObjectId('64a206c68c92db14e7753f51')}]\n"
     ]
    }
   ],
   "source": [
    "# Find All USA\n",
    "query = {'Country_Region': 'US'}\n",
    "results = nations.find(query)\n",
    "sort = [(\"Province_State\", 1)]\n",
    "limit = 5\n",
    "results = list(nations.find(query).sort(sort).limit(limit))\n",
    "\n",
    "pprint(results)\n"
   ]
  },
  {
   "cell_type": "code",
   "execution_count": 16,
   "metadata": {},
   "outputs": [
    {
     "data": {
      "text/plain": [
       "<pymongo.results.UpdateResult at 0x20aa382ef40>"
      ]
     },
     "execution_count": 16,
     "metadata": {},
     "output_type": "execute_result"
    }
   ],
   "source": [
    "#Inserting Regions \n",
    "query = {'Province_State': 'Alabama'}\n",
    "update = {'$set': {'Region': 'Southeast'}}\n",
    "\n",
    "nations.update_many(query, update)\n"
   ]
  },
  {
   "cell_type": "code",
   "execution_count": 17,
   "metadata": {},
   "outputs": [
    {
     "data": {
      "text/plain": [
       "<pymongo.results.UpdateResult at 0x20aa3c11760>"
      ]
     },
     "execution_count": 17,
     "metadata": {},
     "output_type": "execute_result"
    }
   ],
   "source": [
    "#Inserting Regions \n",
    "query = {'Province_State': 'Louisiana'}\n",
    "update = {'$set': {'Region': 'Southeast'}}\n",
    "\n",
    "nations.update_many(query, update)"
   ]
  },
  {
   "cell_type": "code",
   "execution_count": 18,
   "metadata": {},
   "outputs": [
    {
     "data": {
      "text/plain": [
       "<pymongo.results.UpdateResult at 0x20aa382e790>"
      ]
     },
     "execution_count": 18,
     "metadata": {},
     "output_type": "execute_result"
    }
   ],
   "source": [
    "#Inserting Regions \n",
    "query = {'Province_State': 'Arkansas'}\n",
    "update = {'$set': {'Region': 'Southeast'}}\n",
    "\n",
    "nations.update_many(query, update)"
   ]
  },
  {
   "cell_type": "code",
   "execution_count": 19,
   "metadata": {},
   "outputs": [
    {
     "data": {
      "text/plain": [
       "<pymongo.results.UpdateResult at 0x20aa7785c10>"
      ]
     },
     "execution_count": 19,
     "metadata": {},
     "output_type": "execute_result"
    }
   ],
   "source": [
    "#Inserting Regions \n",
    "query = {'Province_State': 'Mississippi'}\n",
    "update = {'$set': {'Region': 'Southeast'}}\n",
    "\n",
    "nations.update_many(query, update)"
   ]
  },
  {
   "cell_type": "code",
   "execution_count": 20,
   "metadata": {},
   "outputs": [
    {
     "data": {
      "text/plain": [
       "<pymongo.results.UpdateResult at 0x20aa78e5c70>"
      ]
     },
     "execution_count": 20,
     "metadata": {},
     "output_type": "execute_result"
    }
   ],
   "source": [
    "#Inserting Regions \n",
    "query = {'Province_State': 'Tennessee'}\n",
    "update = {'$set': {'Region': 'Southeast'}}\n",
    "\n",
    "nations.update_many(query, update)"
   ]
  },
  {
   "cell_type": "code",
   "execution_count": 21,
   "metadata": {},
   "outputs": [
    {
     "data": {
      "text/plain": [
       "<pymongo.results.UpdateResult at 0x20aa6c31850>"
      ]
     },
     "execution_count": 21,
     "metadata": {},
     "output_type": "execute_result"
    }
   ],
   "source": [
    "#Inserting Regions \n",
    "query = {'Province_State': 'Florida'}\n",
    "update = {'$set': {'Region': 'Southeast'}}\n",
    "\n",
    "nations.update_many(query, update)"
   ]
  },
  {
   "cell_type": "code",
   "execution_count": 22,
   "metadata": {},
   "outputs": [
    {
     "data": {
      "text/plain": [
       "<pymongo.results.UpdateResult at 0x20aa3c111f0>"
      ]
     },
     "execution_count": 22,
     "metadata": {},
     "output_type": "execute_result"
    }
   ],
   "source": [
    "#Inserting Regions \n",
    "query = {'Province_State': 'Georgia'}\n",
    "update = {'$set': {'Region': 'Southeast'}}\n",
    "\n",
    "nations.update_many(query, update)"
   ]
  },
  {
   "cell_type": "code",
   "execution_count": 23,
   "metadata": {},
   "outputs": [
    {
     "data": {
      "text/plain": [
       "<pymongo.results.UpdateResult at 0x20aa3c119d0>"
      ]
     },
     "execution_count": 23,
     "metadata": {},
     "output_type": "execute_result"
    }
   ],
   "source": [
    "#Inserting Regions \n",
    "query = {'Province_State': 'Kentucky'}\n",
    "update = {'$set': {'Region': 'Southeast'}}\n",
    "\n",
    "nations.update_many(query, update)"
   ]
  },
  {
   "cell_type": "code",
   "execution_count": 24,
   "metadata": {},
   "outputs": [
    {
     "data": {
      "text/plain": [
       "<pymongo.results.UpdateResult at 0x20aa78e5dc0>"
      ]
     },
     "execution_count": 24,
     "metadata": {},
     "output_type": "execute_result"
    }
   ],
   "source": [
    "#Inserting Regions \n",
    "query = {'Province_State': 'South Carolina'}\n",
    "update = {'$set': {'Region': 'Southeast'}}\n",
    "\n",
    "nations.update_many(query, update)"
   ]
  },
  {
   "cell_type": "code",
   "execution_count": 25,
   "metadata": {},
   "outputs": [
    {
     "data": {
      "text/plain": [
       "<pymongo.results.UpdateResult at 0x20aa78d0d90>"
      ]
     },
     "execution_count": 25,
     "metadata": {},
     "output_type": "execute_result"
    }
   ],
   "source": [
    "#Inserting Regions \n",
    "query = {'Province_State': 'North Carolina'}\n",
    "update = {'$set': {'Region': 'Southeast'}}\n",
    "\n",
    "nations.update_many(query, update)"
   ]
  },
  {
   "cell_type": "code",
   "execution_count": 26,
   "metadata": {},
   "outputs": [
    {
     "data": {
      "text/plain": [
       "<pymongo.results.UpdateResult at 0x20aa78d0b50>"
      ]
     },
     "execution_count": 26,
     "metadata": {},
     "output_type": "execute_result"
    }
   ],
   "source": [
    "#Inserting Regions \n",
    "query = {'Province_State': 'Virginia'}\n",
    "update = {'$set': {'Region': 'Southeast'}}\n",
    "\n",
    "nations.update_many(query, update)"
   ]
  },
  {
   "cell_type": "code",
   "execution_count": 27,
   "metadata": {},
   "outputs": [
    {
     "data": {
      "text/plain": [
       "<pymongo.results.UpdateResult at 0x20aa3c11100>"
      ]
     },
     "execution_count": 27,
     "metadata": {},
     "output_type": "execute_result"
    }
   ],
   "source": [
    "#Inserting Regions \n",
    "query = {'Province_State': 'West Virginia'}\n",
    "update = {'$set': {'Region': 'Southeast'}}\n",
    "\n",
    "nations.update_many(query, update)"
   ]
  },
  {
   "cell_type": "code",
   "execution_count": 28,
   "metadata": {},
   "outputs": [
    {
     "data": {
      "text/plain": [
       "<pymongo.results.UpdateResult at 0x20aa3cf8e80>"
      ]
     },
     "execution_count": 28,
     "metadata": {},
     "output_type": "execute_result"
    }
   ],
   "source": [
    "#Inserting Regions \n",
    "query = {'Province_State': 'Texas'}\n",
    "update = {'$set': {'Region': 'Southwest'}}\n",
    "\n",
    "nations.update_many(query, update)"
   ]
  },
  {
   "cell_type": "code",
   "execution_count": 29,
   "metadata": {},
   "outputs": [
    {
     "data": {
      "text/plain": [
       "<pymongo.results.UpdateResult at 0x20aa3cf8a60>"
      ]
     },
     "execution_count": 29,
     "metadata": {},
     "output_type": "execute_result"
    }
   ],
   "source": [
    "#Inserting Regions \n",
    "query = {'Province_State': 'Oklahoma'}\n",
    "update = {'$set': {'Region': 'Southwest'}}\n",
    "\n",
    "nations.update_many(query, update)"
   ]
  },
  {
   "cell_type": "code",
   "execution_count": 30,
   "metadata": {},
   "outputs": [
    {
     "data": {
      "text/plain": [
       "<pymongo.results.UpdateResult at 0x20aa78d0d00>"
      ]
     },
     "execution_count": 30,
     "metadata": {},
     "output_type": "execute_result"
    }
   ],
   "source": [
    "#Inserting Regions \n",
    "query = {'Province_State': 'New Mexico'}\n",
    "update = {'$set': {'Region': 'Southwest'}}\n",
    "\n",
    "nations.update_many(query, update)"
   ]
  },
  {
   "cell_type": "code",
   "execution_count": 31,
   "metadata": {},
   "outputs": [
    {
     "data": {
      "text/plain": [
       "<pymongo.results.UpdateResult at 0x20aa7785b50>"
      ]
     },
     "execution_count": 31,
     "metadata": {},
     "output_type": "execute_result"
    }
   ],
   "source": [
    "#Inserting Regions \n",
    "query = {'Province_State': 'Arizona'}\n",
    "update = {'$set': {'Region': 'Southwest'}}\n",
    "\n",
    "nations.update_many(query, update)"
   ]
  },
  {
   "cell_type": "code",
   "execution_count": 32,
   "metadata": {},
   "outputs": [
    {
     "data": {
      "text/plain": [
       "<pymongo.results.UpdateResult at 0x20aa3c16190>"
      ]
     },
     "execution_count": 32,
     "metadata": {},
     "output_type": "execute_result"
    }
   ],
   "source": [
    "#Inserting Regions \n",
    "query = {'Province_State': 'California'}\n",
    "update = {'$set': {'Region': 'Pacific'}}\n",
    "\n",
    "nations.update_many(query, update)"
   ]
  },
  {
   "cell_type": "code",
   "execution_count": 33,
   "metadata": {},
   "outputs": [
    {
     "data": {
      "text/plain": [
       "<pymongo.results.UpdateResult at 0x20aa3c16250>"
      ]
     },
     "execution_count": 33,
     "metadata": {},
     "output_type": "execute_result"
    }
   ],
   "source": [
    "#Inserting Regions \n",
    "query = {'Province_State': 'Washington'}\n",
    "update = {'$set': {'Region': 'Pacific'}}\n",
    "\n",
    "nations.update_many(query, update)"
   ]
  },
  {
   "cell_type": "code",
   "execution_count": 34,
   "metadata": {},
   "outputs": [
    {
     "data": {
      "text/plain": [
       "<pymongo.results.UpdateResult at 0x20aa3c161f0>"
      ]
     },
     "execution_count": 34,
     "metadata": {},
     "output_type": "execute_result"
    }
   ],
   "source": [
    "#Inserting Regions \n",
    "query = {'Province_State': 'Oregon'}\n",
    "update = {'$set': {'Region': 'Pacific'}}\n",
    "\n",
    "nations.update_many(query, update)"
   ]
  },
  {
   "cell_type": "code",
   "execution_count": 35,
   "metadata": {},
   "outputs": [
    {
     "data": {
      "text/plain": [
       "<pymongo.results.UpdateResult at 0x20aa382ebe0>"
      ]
     },
     "execution_count": 35,
     "metadata": {},
     "output_type": "execute_result"
    }
   ],
   "source": [
    "#Inserting Regions \n",
    "query = {'Province_State': 'Alaska'}\n",
    "update = {'$set': {'Region': 'Pacific'}}\n",
    "\n",
    "nations.update_many(query, update)"
   ]
  },
  {
   "cell_type": "code",
   "execution_count": 36,
   "metadata": {},
   "outputs": [
    {
     "data": {
      "text/plain": [
       "<pymongo.results.UpdateResult at 0x20aa78d0a90>"
      ]
     },
     "execution_count": 36,
     "metadata": {},
     "output_type": "execute_result"
    }
   ],
   "source": [
    "#Inserting Regions \n",
    "query = {'Province_State': 'Hawaii'}\n",
    "update = {'$set': {'Region': 'Pacific'}}\n",
    "\n",
    "nations.update_many(query, update)"
   ]
  },
  {
   "cell_type": "code",
   "execution_count": 37,
   "metadata": {},
   "outputs": [
    {
     "data": {
      "text/plain": [
       "<pymongo.results.UpdateResult at 0x20aa3c16e80>"
      ]
     },
     "execution_count": 37,
     "metadata": {},
     "output_type": "execute_result"
    }
   ],
   "source": [
    "#Inserting Regions \n",
    "query = {'Province_State': 'Nevada'}\n",
    "update = {'$set': {'Region': 'Rocky_Mountain'}}\n",
    "\n",
    "nations.update_many(query, update)"
   ]
  },
  {
   "cell_type": "code",
   "execution_count": 38,
   "metadata": {},
   "outputs": [
    {
     "data": {
      "text/plain": [
       "<pymongo.results.UpdateResult at 0x20aa3cf89a0>"
      ]
     },
     "execution_count": 38,
     "metadata": {},
     "output_type": "execute_result"
    }
   ],
   "source": [
    "#Inserting Regions \n",
    "query = {'Province_State': 'Idaho'}\n",
    "update = {'$set': {'Region': 'Rocky_Mountain'}}\n",
    "\n",
    "nations.update_many(query, update)"
   ]
  },
  {
   "cell_type": "code",
   "execution_count": 39,
   "metadata": {},
   "outputs": [
    {
     "data": {
      "text/plain": [
       "<pymongo.results.UpdateResult at 0x20aa3c11130>"
      ]
     },
     "execution_count": 39,
     "metadata": {},
     "output_type": "execute_result"
    }
   ],
   "source": [
    "#Inserting Regions \n",
    "query = {'Province_State': 'Utah'}\n",
    "update = {'$set': {'Region': 'Rocky_Mountain'}}\n",
    "\n",
    "nations.update_many(query, update)"
   ]
  },
  {
   "cell_type": "code",
   "execution_count": 40,
   "metadata": {},
   "outputs": [
    {
     "data": {
      "text/plain": [
       "<pymongo.results.UpdateResult at 0x20aa3c116d0>"
      ]
     },
     "execution_count": 40,
     "metadata": {},
     "output_type": "execute_result"
    }
   ],
   "source": [
    "#Inserting Regions \n",
    "query = {'Province_State': 'Colorado'}\n",
    "update = {'$set': {'Region': 'Rocky_Mountain'}}\n",
    "\n",
    "nations.update_many(query, update)"
   ]
  },
  {
   "cell_type": "code",
   "execution_count": 41,
   "metadata": {},
   "outputs": [
    {
     "data": {
      "text/plain": [
       "<pymongo.results.UpdateResult at 0x20aa78d0fa0>"
      ]
     },
     "execution_count": 41,
     "metadata": {},
     "output_type": "execute_result"
    }
   ],
   "source": [
    "#Inserting Regions \n",
    "query = {'Province_State': 'Wyoming'}\n",
    "update = {'$set': {'Region': 'Rocky_Mountain'}}\n",
    "\n",
    "nations.update_many(query, update)"
   ]
  },
  {
   "cell_type": "code",
   "execution_count": 42,
   "metadata": {},
   "outputs": [
    {
     "data": {
      "text/plain": [
       "<pymongo.results.UpdateResult at 0x20aa78e5610>"
      ]
     },
     "execution_count": 42,
     "metadata": {},
     "output_type": "execute_result"
    }
   ],
   "source": [
    "#Inserting Regions \n",
    "query = {'Province_State': 'Montana'}\n",
    "update = {'$set': {'Region': 'Rocky_Mountain'}}\n",
    "\n",
    "nations.update_many(query, update)"
   ]
  },
  {
   "cell_type": "code",
   "execution_count": 43,
   "metadata": {},
   "outputs": [
    {
     "data": {
      "text/plain": [
       "<pymongo.results.UpdateResult at 0x20aa78e5280>"
      ]
     },
     "execution_count": 43,
     "metadata": {},
     "output_type": "execute_result"
    }
   ],
   "source": [
    "#Inserting Regions \n",
    "query = {'Province_State': 'North Dakota'}\n",
    "update = {'$set': {'Region': 'Midwest'}}\n",
    "\n",
    "nations.update_many(query, update)"
   ]
  },
  {
   "cell_type": "code",
   "execution_count": 44,
   "metadata": {},
   "outputs": [
    {
     "data": {
      "text/plain": [
       "<pymongo.results.UpdateResult at 0x20aa78e5df0>"
      ]
     },
     "execution_count": 44,
     "metadata": {},
     "output_type": "execute_result"
    }
   ],
   "source": [
    "#Inserting Regions \n",
    "query = {'Province_State': 'South Dakota'}\n",
    "update = {'$set': {'Region': 'Midwest'}}\n",
    "\n",
    "nations.update_many(query, update)"
   ]
  },
  {
   "cell_type": "code",
   "execution_count": 45,
   "metadata": {},
   "outputs": [
    {
     "data": {
      "text/plain": [
       "<pymongo.results.UpdateResult at 0x20aa78e5e50>"
      ]
     },
     "execution_count": 45,
     "metadata": {},
     "output_type": "execute_result"
    }
   ],
   "source": [
    "#Inserting Regions \n",
    "query = {'Province_State': 'Nebraska'}\n",
    "update = {'$set': {'Region': 'Midwest'}}\n",
    "\n",
    "nations.update_many(query, update)"
   ]
  },
  {
   "cell_type": "code",
   "execution_count": 46,
   "metadata": {},
   "outputs": [
    {
     "data": {
      "text/plain": [
       "<pymongo.results.UpdateResult at 0x20aa3c16040>"
      ]
     },
     "execution_count": 46,
     "metadata": {},
     "output_type": "execute_result"
    }
   ],
   "source": [
    "#Inserting Regions \n",
    "query = {'Province_State': 'Kansas'}\n",
    "update = {'$set': {'Region': 'Midwest'}}\n",
    "\n",
    "nations.update_many(query, update)"
   ]
  },
  {
   "cell_type": "code",
   "execution_count": 47,
   "metadata": {},
   "outputs": [
    {
     "data": {
      "text/plain": [
       "<pymongo.results.UpdateResult at 0x20aa3cf8f70>"
      ]
     },
     "execution_count": 47,
     "metadata": {},
     "output_type": "execute_result"
    }
   ],
   "source": [
    "#Inserting Regions \n",
    "query = {'Province_State': 'Minnesota'}\n",
    "update = {'$set': {'Region': 'Midwest'}}\n",
    "\n",
    "nations.update_many(query, update)"
   ]
  },
  {
   "cell_type": "code",
   "execution_count": 48,
   "metadata": {},
   "outputs": [
    {
     "data": {
      "text/plain": [
       "<pymongo.results.UpdateResult at 0x20aa79ff040>"
      ]
     },
     "execution_count": 48,
     "metadata": {},
     "output_type": "execute_result"
    }
   ],
   "source": [
    "#Inserting Regions \n",
    "query = {'Province_State': 'Iowa'}\n",
    "update = {'$set': {'Region': 'Midwest'}}\n",
    "\n",
    "nations.update_many(query, update)"
   ]
  },
  {
   "cell_type": "code",
   "execution_count": 49,
   "metadata": {},
   "outputs": [
    {
     "data": {
      "text/plain": [
       "<pymongo.results.UpdateResult at 0x20aa3c16370>"
      ]
     },
     "execution_count": 49,
     "metadata": {},
     "output_type": "execute_result"
    }
   ],
   "source": [
    "#Inserting Regions \n",
    "query = {'Province_State': 'Missouri'}\n",
    "update = {'$set': {'Region': 'Midwest'}}\n",
    "\n",
    "nations.update_many(query, update)"
   ]
  },
  {
   "cell_type": "code",
   "execution_count": 50,
   "metadata": {},
   "outputs": [
    {
     "data": {
      "text/plain": [
       "<pymongo.results.UpdateResult at 0x20aa3c11190>"
      ]
     },
     "execution_count": 50,
     "metadata": {},
     "output_type": "execute_result"
    }
   ],
   "source": [
    "#Inserting Regions \n",
    "query = {'Province_State': 'Wisconsin'}\n",
    "update = {'$set': {'Region': 'Midwest'}}\n",
    "\n",
    "nations.update_many(query, update)"
   ]
  },
  {
   "cell_type": "code",
   "execution_count": 51,
   "metadata": {},
   "outputs": [
    {
     "data": {
      "text/plain": [
       "<pymongo.results.UpdateResult at 0x20aa3c11070>"
      ]
     },
     "execution_count": 51,
     "metadata": {},
     "output_type": "execute_result"
    }
   ],
   "source": [
    "#Inserting Regions \n",
    "query = {'Province_State': 'Illinois'}\n",
    "update = {'$set': {'Region': 'Midwest'}}\n",
    "\n",
    "nations.update_many(query, update)"
   ]
  },
  {
   "cell_type": "code",
   "execution_count": 52,
   "metadata": {},
   "outputs": [
    {
     "data": {
      "text/plain": [
       "<pymongo.results.UpdateResult at 0x20aa382e910>"
      ]
     },
     "execution_count": 52,
     "metadata": {},
     "output_type": "execute_result"
    }
   ],
   "source": [
    "#Inserting Regions \n",
    "query = {'Province_State': 'Indiana'}\n",
    "update = {'$set': {'Region': 'Midwest'}}\n",
    "\n",
    "nations.update_many(query, update)"
   ]
  },
  {
   "cell_type": "code",
   "execution_count": 53,
   "metadata": {},
   "outputs": [
    {
     "data": {
      "text/plain": [
       "<pymongo.results.UpdateResult at 0x20aa3cf8b80>"
      ]
     },
     "execution_count": 53,
     "metadata": {},
     "output_type": "execute_result"
    }
   ],
   "source": [
    "#Inserting Regions \n",
    "query = {'Province_State': 'Michigan'}\n",
    "update = {'$set': {'Region': 'Midwest'}}\n",
    "\n",
    "nations.update_many(query, update)"
   ]
  },
  {
   "cell_type": "code",
   "execution_count": 54,
   "metadata": {},
   "outputs": [
    {
     "data": {
      "text/plain": [
       "<pymongo.results.UpdateResult at 0x20aa382e8e0>"
      ]
     },
     "execution_count": 54,
     "metadata": {},
     "output_type": "execute_result"
    }
   ],
   "source": [
    "#Inserting Regions \n",
    "query = {'Province_State': 'Ohio'}\n",
    "update = {'$set': {'Region': 'Midwest'}}\n",
    "\n",
    "nations.update_many(query, update)"
   ]
  },
  {
   "cell_type": "code",
   "execution_count": 55,
   "metadata": {},
   "outputs": [
    {
     "data": {
      "text/plain": [
       "<pymongo.results.UpdateResult at 0x20aa382ea30>"
      ]
     },
     "execution_count": 55,
     "metadata": {},
     "output_type": "execute_result"
    }
   ],
   "source": [
    "#Inserting Regions \n",
    "query = {'Province_State': 'Maryland'}\n",
    "update = {'$set': {'Region': 'Northeast'}}\n",
    "\n",
    "nations.update_many(query, update)"
   ]
  },
  {
   "cell_type": "code",
   "execution_count": 56,
   "metadata": {},
   "outputs": [
    {
     "data": {
      "text/plain": [
       "<pymongo.results.UpdateResult at 0x20aa78e5e20>"
      ]
     },
     "execution_count": 56,
     "metadata": {},
     "output_type": "execute_result"
    }
   ],
   "source": [
    "#Inserting Regions \n",
    "query = {'Province_State': 'Delaware'}\n",
    "update = {'$set': {'Region': 'Northeast'}}\n",
    "\n",
    "nations.update_many(query, update)"
   ]
  },
  {
   "cell_type": "code",
   "execution_count": 57,
   "metadata": {},
   "outputs": [
    {
     "data": {
      "text/plain": [
       "<pymongo.results.UpdateResult at 0x20aa79ffb80>"
      ]
     },
     "execution_count": 57,
     "metadata": {},
     "output_type": "execute_result"
    }
   ],
   "source": [
    "#Inserting Regions \n",
    "query = {'Province_State': 'Pennsylvania'}\n",
    "update = {'$set': {'Region': 'Northeast'}}\n",
    "\n",
    "nations.update_many(query, update)"
   ]
  },
  {
   "cell_type": "code",
   "execution_count": 58,
   "metadata": {},
   "outputs": [
    {
     "data": {
      "text/plain": [
       "<pymongo.results.UpdateResult at 0x20aa7785a90>"
      ]
     },
     "execution_count": 58,
     "metadata": {},
     "output_type": "execute_result"
    }
   ],
   "source": [
    "#Inserting Regions \n",
    "query = {'Province_State': 'New Jersey'}\n",
    "update = {'$set': {'Region': 'Northeast'}}\n",
    "\n",
    "nations.update_many(query, update)"
   ]
  },
  {
   "cell_type": "code",
   "execution_count": 59,
   "metadata": {},
   "outputs": [
    {
     "data": {
      "text/plain": [
       "<pymongo.results.UpdateResult at 0x20aa382eb50>"
      ]
     },
     "execution_count": 59,
     "metadata": {},
     "output_type": "execute_result"
    }
   ],
   "source": [
    "query = {'Province_State': 'New York'}\n",
    "update = {'$set': {'Region': 'Northeast'}}\n",
    "\n",
    "nations.update_many(query, update)"
   ]
  },
  {
   "cell_type": "code",
   "execution_count": 60,
   "metadata": {},
   "outputs": [
    {
     "data": {
      "text/plain": [
       "<pymongo.results.UpdateResult at 0x20aa79ff250>"
      ]
     },
     "execution_count": 60,
     "metadata": {},
     "output_type": "execute_result"
    }
   ],
   "source": [
    "query = {'Province_State': 'Rhode Island'}\n",
    "update = {'$set': {'Region': 'Northeast'}}\n",
    "\n",
    "nations.update_many(query, update)"
   ]
  },
  {
   "cell_type": "code",
   "execution_count": 61,
   "metadata": {},
   "outputs": [
    {
     "data": {
      "text/plain": [
       "<pymongo.results.UpdateResult at 0x20aa78e59d0>"
      ]
     },
     "execution_count": 61,
     "metadata": {},
     "output_type": "execute_result"
    }
   ],
   "source": [
    "query = {'Province_State': 'Connecticut'}\n",
    "update = {'$set': {'Region': 'Northeast'}}\n",
    "\n",
    "nations.update_many(query, update)"
   ]
  },
  {
   "cell_type": "code",
   "execution_count": 62,
   "metadata": {},
   "outputs": [
    {
     "data": {
      "text/plain": [
       "<pymongo.results.UpdateResult at 0x20aa78e5910>"
      ]
     },
     "execution_count": 62,
     "metadata": {},
     "output_type": "execute_result"
    }
   ],
   "source": [
    "query = {'Province_State': 'Massachusetts'}\n",
    "update = {'$set': {'Region': 'Northeast'}}\n",
    "\n",
    "nations.update_many(query, update)"
   ]
  },
  {
   "cell_type": "code",
   "execution_count": 63,
   "metadata": {},
   "outputs": [
    {
     "data": {
      "text/plain": [
       "<pymongo.results.UpdateResult at 0x20aa79ffa60>"
      ]
     },
     "execution_count": 63,
     "metadata": {},
     "output_type": "execute_result"
    }
   ],
   "source": [
    "query = {'Province_State': 'Vermont'}\n",
    "update = {'$set': {'Region': 'Northeast'}}\n",
    "\n",
    "nations.update_many(query, update)"
   ]
  },
  {
   "cell_type": "code",
   "execution_count": 64,
   "metadata": {},
   "outputs": [
    {
     "data": {
      "text/plain": [
       "<pymongo.results.UpdateResult at 0x20aa79ff670>"
      ]
     },
     "execution_count": 64,
     "metadata": {},
     "output_type": "execute_result"
    }
   ],
   "source": [
    "query = {'Province_State': 'New Hampshire'}\n",
    "update = {'$set': {'Region': 'Northeast'}}\n",
    "\n",
    "nations.update_many(query, update)"
   ]
  },
  {
   "cell_type": "code",
   "execution_count": 65,
   "metadata": {},
   "outputs": [
    {
     "data": {
      "text/plain": [
       "<pymongo.results.UpdateResult at 0x20aa79ff070>"
      ]
     },
     "execution_count": 65,
     "metadata": {},
     "output_type": "execute_result"
    }
   ],
   "source": [
    "query = {'Province_State': 'Maine'}\n",
    "update = {'$set': {'Region': 'Northeast'}}\n",
    "\n",
    "nations.update_many(query, update)"
   ]
  },
  {
   "cell_type": "code",
   "execution_count": 66,
   "metadata": {},
   "outputs": [],
   "source": [
    "pipeline = [\n",
    "    {\n",
    "        '$match': {\n",
    "            'Country_Region': 'US'\n",
    "        }\n",
    "    },\n",
    "    {\n",
    "        '$group': {\n",
    "            '_id': {\n",
    "                'State': '$Province_State',\n",
    "                'Region': '$Region'\n",
    "                \n",
    "            },\n",
    "            'average_lat': {\n",
    "                '$avg': '$Lat'\n",
    "            },\n",
    "            'average_long': {\n",
    "                '$avg': '$Long_'\n",
    "            },\n",
    "            'total_confirmed': {\n",
    "                '$sum': '$Confirmed'\n",
    "            },\n",
    "            'total_deaths' : {\n",
    "                '$sum': '$Deaths'\n",
    "            },\n",
    "            \n",
    "            'average_case_fatality_ratio': {\n",
    "                '$avg': '$Case_Fatality_Ratio'\n",
    "            }\n",
    "            }\n",
    "        }\n",
    "    \n",
    "]\n",
    "\n",
    "results = list(nations.aggregate(pipeline))\n",
    "\n",
    "\n",
    "\n"
   ]
  },
  {
   "cell_type": "code",
   "execution_count": 67,
   "metadata": {},
   "outputs": [
    {
     "name": "stdout",
     "output_type": "stream",
     "text": [
      "Rows in DataFrame: 59\n"
     ]
    },
    {
     "data": {
      "text/html": [
       "<div>\n",
       "<style scoped>\n",
       "    .dataframe tbody tr th:only-of-type {\n",
       "        vertical-align: middle;\n",
       "    }\n",
       "\n",
       "    .dataframe tbody tr th {\n",
       "        vertical-align: top;\n",
       "    }\n",
       "\n",
       "    .dataframe thead th {\n",
       "        text-align: right;\n",
       "    }\n",
       "</style>\n",
       "<table border=\"1\" class=\"dataframe\">\n",
       "  <thead>\n",
       "    <tr style=\"text-align: right;\">\n",
       "      <th></th>\n",
       "      <th>average_lat</th>\n",
       "      <th>average_long</th>\n",
       "      <th>total_confirmed</th>\n",
       "      <th>total_deaths</th>\n",
       "      <th>average_case_fatality_ratio</th>\n",
       "      <th>State</th>\n",
       "      <th>Region</th>\n",
       "    </tr>\n",
       "  </thead>\n",
       "  <tbody>\n",
       "    <tr>\n",
       "      <th>0</th>\n",
       "      <td>31.660643</td>\n",
       "      <td>-98.653069</td>\n",
       "      <td>4679048</td>\n",
       "      <td>75640</td>\n",
       "      <td>2.483075</td>\n",
       "      <td>Texas</td>\n",
       "      <td>Southwest</td>\n",
       "    </tr>\n",
       "    <tr>\n",
       "      <th>1</th>\n",
       "      <td>40.310670</td>\n",
       "      <td>-82.835408</td>\n",
       "      <td>2016095</td>\n",
       "      <td>32021</td>\n",
       "      <td>1.701523</td>\n",
       "      <td>Ohio</td>\n",
       "      <td>Midwest</td>\n",
       "    </tr>\n",
       "    <tr>\n",
       "      <th>2</th>\n",
       "      <td>46.974691</td>\n",
       "      <td>-109.700395</td>\n",
       "      <td>197724</td>\n",
       "      <td>2906</td>\n",
       "      <td>2.039084</td>\n",
       "      <td>Montana</td>\n",
       "      <td>Rocky_Mountain</td>\n",
       "    </tr>\n",
       "    <tr>\n",
       "      <th>3</th>\n",
       "      <td>47.393507</td>\n",
       "      <td>-100.249393</td>\n",
       "      <td>174516</td>\n",
       "      <td>2057</td>\n",
       "      <td>1.588716</td>\n",
       "      <td>North Dakota</td>\n",
       "      <td>Midwest</td>\n",
       "    </tr>\n",
       "    <tr>\n",
       "      <th>4</th>\n",
       "      <td>39.837353</td>\n",
       "      <td>-86.218568</td>\n",
       "      <td>1246854</td>\n",
       "      <td>19037</td>\n",
       "      <td>1.606078</td>\n",
       "      <td>Indiana</td>\n",
       "      <td>Midwest</td>\n",
       "    </tr>\n",
       "    <tr>\n",
       "      <th>5</th>\n",
       "      <td>43.478973</td>\n",
       "      <td>-71.577657</td>\n",
       "      <td>198667</td>\n",
       "      <td>1961</td>\n",
       "      <td>0.939436</td>\n",
       "      <td>New Hampshire</td>\n",
       "      <td>Northeast</td>\n",
       "    </tr>\n",
       "    <tr>\n",
       "      <th>6</th>\n",
       "      <td>43.086886</td>\n",
       "      <td>-107.153242</td>\n",
       "      <td>115638</td>\n",
       "      <td>1526</td>\n",
       "      <td>1.453349</td>\n",
       "      <td>Wyoming</td>\n",
       "      <td>Rocky_Mountain</td>\n",
       "    </tr>\n",
       "    <tr>\n",
       "      <th>7</th>\n",
       "      <td>39.014921</td>\n",
       "      <td>-76.675468</td>\n",
       "      <td>735723</td>\n",
       "      <td>11758</td>\n",
       "      <td>3.124875</td>\n",
       "      <td>Maryland</td>\n",
       "      <td>Northeast</td>\n",
       "    </tr>\n",
       "    <tr>\n",
       "      <th>8</th>\n",
       "      <td>44.043620</td>\n",
       "      <td>-85.181696</td>\n",
       "      <td>1710325</td>\n",
       "      <td>29020</td>\n",
       "      <td>1.835698</td>\n",
       "      <td>Michigan</td>\n",
       "      <td>Midwest</td>\n",
       "    </tr>\n",
       "    <tr>\n",
       "      <th>9</th>\n",
       "      <td>35.624210</td>\n",
       "      <td>-79.501099</td>\n",
       "      <td>1686667</td>\n",
       "      <td>19426</td>\n",
       "      <td>1.400348</td>\n",
       "      <td>North Carolina</td>\n",
       "      <td>Southeast</td>\n",
       "    </tr>\n",
       "  </tbody>\n",
       "</table>\n",
       "</div>"
      ],
      "text/plain": [
       "   average_lat  average_long  total_confirmed  total_deaths  \\\n",
       "0    31.660643    -98.653069          4679048         75640   \n",
       "1    40.310670    -82.835408          2016095         32021   \n",
       "2    46.974691   -109.700395           197724          2906   \n",
       "3    47.393507   -100.249393           174516          2057   \n",
       "4    39.837353    -86.218568          1246854         19037   \n",
       "5    43.478973    -71.577657           198667          1961   \n",
       "6    43.086886   -107.153242           115638          1526   \n",
       "7    39.014921    -76.675468           735723         11758   \n",
       "8    44.043620    -85.181696          1710325         29020   \n",
       "9    35.624210    -79.501099          1686667         19426   \n",
       "\n",
       "   average_case_fatality_ratio           State          Region  \n",
       "0                     2.483075           Texas       Southwest  \n",
       "1                     1.701523            Ohio         Midwest  \n",
       "2                     2.039084         Montana  Rocky_Mountain  \n",
       "3                     1.588716    North Dakota         Midwest  \n",
       "4                     1.606078         Indiana         Midwest  \n",
       "5                     0.939436   New Hampshire       Northeast  \n",
       "6                     1.453349         Wyoming  Rocky_Mountain  \n",
       "7                     3.124875        Maryland       Northeast  \n",
       "8                     1.835698        Michigan         Midwest  \n",
       "9                     1.400348  North Carolina       Southeast  "
      ]
     },
     "execution_count": 67,
     "metadata": {},
     "output_type": "execute_result"
    }
   ],
   "source": [
    "# Convert mongo result to Pandas DataFrame\n",
    "result_df = pd.DataFrame(results)\n",
    "\n",
    "# Separate Region and State into separate columns\n",
    "result_df[['State', 'Region']] = result_df['_id'].apply(pd.Series)\n",
    "result_df.drop('_id', axis=1, inplace=True)\n",
    "\n",
    "# Print the number of rows in the DataFrame\n",
    "print(\"Rows in DataFrame:\", len(result_df))\n",
    "\n",
    "# Print the DataFrame\n",
    "result_df.head(10)"
   ]
  },
  {
   "cell_type": "code",
   "execution_count": 70,
   "metadata": {},
   "outputs": [
    {
     "name": "stdout",
     "output_type": "stream",
     "text": [
      "Rows in DataFrame: 50\n"
     ]
    },
    {
     "data": {
      "text/html": [
       "<div>\n",
       "<style scoped>\n",
       "    .dataframe tbody tr th:only-of-type {\n",
       "        vertical-align: middle;\n",
       "    }\n",
       "\n",
       "    .dataframe tbody tr th {\n",
       "        vertical-align: top;\n",
       "    }\n",
       "\n",
       "    .dataframe thead th {\n",
       "        text-align: right;\n",
       "    }\n",
       "</style>\n",
       "<table border=\"1\" class=\"dataframe\">\n",
       "  <thead>\n",
       "    <tr style=\"text-align: right;\">\n",
       "      <th></th>\n",
       "      <th>State</th>\n",
       "      <th>Region</th>\n",
       "      <th>average_lat</th>\n",
       "      <th>average_long</th>\n",
       "      <th>total_confirmed</th>\n",
       "      <th>total_deaths</th>\n",
       "      <th>average_case_fatality_ratio</th>\n",
       "    </tr>\n",
       "  </thead>\n",
       "  <tbody>\n",
       "    <tr>\n",
       "      <th>0</th>\n",
       "      <td>Texas</td>\n",
       "      <td>Southwest</td>\n",
       "      <td>31.661</td>\n",
       "      <td>-98.653</td>\n",
       "      <td>4679048</td>\n",
       "      <td>75640</td>\n",
       "      <td>2.483</td>\n",
       "    </tr>\n",
       "    <tr>\n",
       "      <th>1</th>\n",
       "      <td>Ohio</td>\n",
       "      <td>Midwest</td>\n",
       "      <td>40.311</td>\n",
       "      <td>-82.835</td>\n",
       "      <td>2016095</td>\n",
       "      <td>32021</td>\n",
       "      <td>1.702</td>\n",
       "    </tr>\n",
       "    <tr>\n",
       "      <th>2</th>\n",
       "      <td>Montana</td>\n",
       "      <td>Rocky_Mountain</td>\n",
       "      <td>46.975</td>\n",
       "      <td>-109.700</td>\n",
       "      <td>197724</td>\n",
       "      <td>2906</td>\n",
       "      <td>2.039</td>\n",
       "    </tr>\n",
       "    <tr>\n",
       "      <th>3</th>\n",
       "      <td>North Dakota</td>\n",
       "      <td>Midwest</td>\n",
       "      <td>47.394</td>\n",
       "      <td>-100.249</td>\n",
       "      <td>174516</td>\n",
       "      <td>2057</td>\n",
       "      <td>1.589</td>\n",
       "    </tr>\n",
       "    <tr>\n",
       "      <th>4</th>\n",
       "      <td>Indiana</td>\n",
       "      <td>Midwest</td>\n",
       "      <td>39.837</td>\n",
       "      <td>-86.219</td>\n",
       "      <td>1246854</td>\n",
       "      <td>19037</td>\n",
       "      <td>1.606</td>\n",
       "    </tr>\n",
       "    <tr>\n",
       "      <th>5</th>\n",
       "      <td>New Hampshire</td>\n",
       "      <td>Northeast</td>\n",
       "      <td>43.479</td>\n",
       "      <td>-71.578</td>\n",
       "      <td>198667</td>\n",
       "      <td>1961</td>\n",
       "      <td>0.939</td>\n",
       "    </tr>\n",
       "    <tr>\n",
       "      <th>6</th>\n",
       "      <td>Wyoming</td>\n",
       "      <td>Rocky_Mountain</td>\n",
       "      <td>43.087</td>\n",
       "      <td>-107.153</td>\n",
       "      <td>115638</td>\n",
       "      <td>1526</td>\n",
       "      <td>1.453</td>\n",
       "    </tr>\n",
       "    <tr>\n",
       "      <th>7</th>\n",
       "      <td>Maryland</td>\n",
       "      <td>Northeast</td>\n",
       "      <td>39.015</td>\n",
       "      <td>-76.675</td>\n",
       "      <td>735723</td>\n",
       "      <td>11758</td>\n",
       "      <td>3.125</td>\n",
       "    </tr>\n",
       "    <tr>\n",
       "      <th>8</th>\n",
       "      <td>Michigan</td>\n",
       "      <td>Midwest</td>\n",
       "      <td>44.044</td>\n",
       "      <td>-85.182</td>\n",
       "      <td>1710325</td>\n",
       "      <td>29020</td>\n",
       "      <td>1.836</td>\n",
       "    </tr>\n",
       "    <tr>\n",
       "      <th>9</th>\n",
       "      <td>North Carolina</td>\n",
       "      <td>Southeast</td>\n",
       "      <td>35.624</td>\n",
       "      <td>-79.501</td>\n",
       "      <td>1686667</td>\n",
       "      <td>19426</td>\n",
       "      <td>1.400</td>\n",
       "    </tr>\n",
       "  </tbody>\n",
       "</table>\n",
       "</div>"
      ],
      "text/plain": [
       "            State          Region  average_lat  average_long  total_confirmed  \\\n",
       "0           Texas       Southwest       31.661       -98.653          4679048   \n",
       "1            Ohio         Midwest       40.311       -82.835          2016095   \n",
       "2         Montana  Rocky_Mountain       46.975      -109.700           197724   \n",
       "3    North Dakota         Midwest       47.394      -100.249           174516   \n",
       "4         Indiana         Midwest       39.837       -86.219          1246854   \n",
       "5   New Hampshire       Northeast       43.479       -71.578           198667   \n",
       "6         Wyoming  Rocky_Mountain       43.087      -107.153           115638   \n",
       "7        Maryland       Northeast       39.015       -76.675           735723   \n",
       "8        Michigan         Midwest       44.044       -85.182          1710325   \n",
       "9  North Carolina       Southeast       35.624       -79.501          1686667   \n",
       "\n",
       "   total_deaths  average_case_fatality_ratio  \n",
       "0         75640                        2.483  \n",
       "1         32021                        1.702  \n",
       "2          2906                        2.039  \n",
       "3          2057                        1.589  \n",
       "4         19037                        1.606  \n",
       "5          1961                        0.939  \n",
       "6          1526                        1.453  \n",
       "7         11758                        3.125  \n",
       "8         29020                        1.836  \n",
       "9         19426                        1.400  "
      ]
     },
     "execution_count": 70,
     "metadata": {},
     "output_type": "execute_result"
    }
   ],
   "source": [
    "# Remove rows with NaNs\n",
    "result_df.dropna(inplace=True)\n",
    "\n",
    "# Print the number of rows in the DataFrame\n",
    "print(\"Rows in DataFrame:\", len(result_df))\n",
    "\n",
    "# Round decimal columns to 2 decimal places\n",
    "result_df = result_df.round(3)\n",
    "new_column_order = ['State', 'Region', 'average_lat','average_long','total_confirmed','total_deaths','average_case_fatality_ratio']\n",
    "\n",
    "result_df = result_df.reindex(columns=new_column_order)\n",
    "# Print the DataFrame\n",
    "result_df.head(10)"
   ]
  },
  {
   "cell_type": "code",
   "execution_count": 73,
   "metadata": {},
   "outputs": [
    {
     "data": {
      "text/html": [
       "<div>\n",
       "<style scoped>\n",
       "    .dataframe tbody tr th:only-of-type {\n",
       "        vertical-align: middle;\n",
       "    }\n",
       "\n",
       "    .dataframe tbody tr th {\n",
       "        vertical-align: top;\n",
       "    }\n",
       "\n",
       "    .dataframe thead th {\n",
       "        text-align: right;\n",
       "    }\n",
       "</style>\n",
       "<table border=\"1\" class=\"dataframe\">\n",
       "  <thead>\n",
       "    <tr style=\"text-align: right;\">\n",
       "      <th></th>\n",
       "      <th>State</th>\n",
       "      <th>Region</th>\n",
       "      <th>lat</th>\n",
       "      <th>long</th>\n",
       "      <th>total_confirmed</th>\n",
       "      <th>total_deaths</th>\n",
       "      <th>average_case_fatality_ratio</th>\n",
       "    </tr>\n",
       "  </thead>\n",
       "  <tbody>\n",
       "    <tr>\n",
       "      <th>17</th>\n",
       "      <td>Alabama</td>\n",
       "      <td>Southeast</td>\n",
       "      <td>32.884</td>\n",
       "      <td>-86.710</td>\n",
       "      <td>896614</td>\n",
       "      <td>16455</td>\n",
       "      <td>2.213</td>\n",
       "    </tr>\n",
       "    <tr>\n",
       "      <th>18</th>\n",
       "      <td>Alaska</td>\n",
       "      <td>Pacific</td>\n",
       "      <td>60.348</td>\n",
       "      <td>-149.007</td>\n",
       "      <td>157169</td>\n",
       "      <td>978</td>\n",
       "      <td>0.526</td>\n",
       "    </tr>\n",
       "    <tr>\n",
       "      <th>28</th>\n",
       "      <td>Arizona</td>\n",
       "      <td>Southwest</td>\n",
       "      <td>33.676</td>\n",
       "      <td>-111.463</td>\n",
       "      <td>1389708</td>\n",
       "      <td>24354</td>\n",
       "      <td>2.103</td>\n",
       "    </tr>\n",
       "    <tr>\n",
       "      <th>16</th>\n",
       "      <td>Arkansas</td>\n",
       "      <td>Southeast</td>\n",
       "      <td>34.912</td>\n",
       "      <td>-92.434</td>\n",
       "      <td>570641</td>\n",
       "      <td>9180</td>\n",
       "      <td>1.957</td>\n",
       "    </tr>\n",
       "    <tr>\n",
       "      <th>24</th>\n",
       "      <td>California</td>\n",
       "      <td>Pacific</td>\n",
       "      <td>37.844</td>\n",
       "      <td>-120.729</td>\n",
       "      <td>5519702</td>\n",
       "      <td>76443</td>\n",
       "      <td>1.119</td>\n",
       "    </tr>\n",
       "    <tr>\n",
       "      <th>51</th>\n",
       "      <td>Colorado</td>\n",
       "      <td>Rocky_Mountain</td>\n",
       "      <td>38.935</td>\n",
       "      <td>-105.486</td>\n",
       "      <td>1004704</td>\n",
       "      <td>10815</td>\n",
       "      <td>1.352</td>\n",
       "    </tr>\n",
       "    <tr>\n",
       "      <th>27</th>\n",
       "      <td>Connecticut</td>\n",
       "      <td>Northeast</td>\n",
       "      <td>41.614</td>\n",
       "      <td>-72.657</td>\n",
       "      <td>510188</td>\n",
       "      <td>9160</td>\n",
       "      <td>1.536</td>\n",
       "    </tr>\n",
       "    <tr>\n",
       "      <th>10</th>\n",
       "      <td>Delaware</td>\n",
       "      <td>Northeast</td>\n",
       "      <td>39.109</td>\n",
       "      <td>-75.533</td>\n",
       "      <td>183880</td>\n",
       "      <td>2286</td>\n",
       "      <td>1.008</td>\n",
       "    </tr>\n",
       "    <tr>\n",
       "      <th>36</th>\n",
       "      <td>Florida</td>\n",
       "      <td>Southeast</td>\n",
       "      <td>28.941</td>\n",
       "      <td>-82.701</td>\n",
       "      <td>4209927</td>\n",
       "      <td>62504</td>\n",
       "      <td>13.735</td>\n",
       "    </tr>\n",
       "    <tr>\n",
       "      <th>55</th>\n",
       "      <td>Georgia</td>\n",
       "      <td>Southeast</td>\n",
       "      <td>32.809</td>\n",
       "      <td>-83.577</td>\n",
       "      <td>1839879</td>\n",
       "      <td>31443</td>\n",
       "      <td>2.464</td>\n",
       "    </tr>\n",
       "  </tbody>\n",
       "</table>\n",
       "</div>"
      ],
      "text/plain": [
       "          State          Region     lat     long  total_confirmed  \\\n",
       "17      Alabama       Southeast  32.884  -86.710           896614   \n",
       "18       Alaska         Pacific  60.348 -149.007           157169   \n",
       "28      Arizona       Southwest  33.676 -111.463          1389708   \n",
       "16     Arkansas       Southeast  34.912  -92.434           570641   \n",
       "24   California         Pacific  37.844 -120.729          5519702   \n",
       "51     Colorado  Rocky_Mountain  38.935 -105.486          1004704   \n",
       "27  Connecticut       Northeast  41.614  -72.657           510188   \n",
       "10     Delaware       Northeast  39.109  -75.533           183880   \n",
       "36      Florida       Southeast  28.941  -82.701          4209927   \n",
       "55      Georgia       Southeast  32.809  -83.577          1839879   \n",
       "\n",
       "    total_deaths  average_case_fatality_ratio  \n",
       "17         16455                        2.213  \n",
       "18           978                        0.526  \n",
       "28         24354                        2.103  \n",
       "16          9180                        1.957  \n",
       "24         76443                        1.119  \n",
       "51         10815                        1.352  \n",
       "27          9160                        1.536  \n",
       "10          2286                        1.008  \n",
       "36         62504                       13.735  \n",
       "55         31443                        2.464  "
      ]
     },
     "execution_count": 73,
     "metadata": {},
     "output_type": "execute_result"
    }
   ],
   "source": [
    "result_df.rename(columns={'average_lat': 'lat'}, inplace=True)\n",
    "result_df.rename(columns={'average_long': 'long'}, inplace=True)\n",
    "result_df = result_df.sort_values(by='State')\n",
    "\n",
    "result_df.head(10)"
   ]
  },
  {
   "cell_type": "code",
   "execution_count": 74,
   "metadata": {},
   "outputs": [],
   "source": [
    "# Assuming result_df is a pandas DataFrame\n",
    "results = result_df.to_dict(orient='records')\n",
    "\n",
    "# Convert results to JSON string\n",
    "results_json = json.dumps(results, indent=4)\n",
    "\n",
    "# Define the output file path\n",
    "output_file_path = 'Clean/clean_2022.json'\n",
    "\n",
    "# Write the JSON string to the output file\n",
    "with open(output_file_path, 'w') as output_file:\n",
    "    output_file.write(results_json)\n",
    "\n"
   ]
  }
 ],
 "metadata": {
  "kernelspec": {
   "display_name": "base",
   "language": "python",
   "name": "python3"
  },
  "language_info": {
   "codemirror_mode": {
    "name": "ipython",
    "version": 3
   },
   "file_extension": ".py",
   "mimetype": "text/x-python",
   "name": "python",
   "nbconvert_exporter": "python",
   "pygments_lexer": "ipython3",
   "version": "3.9.13"
  },
  "orig_nbformat": 4
 },
 "nbformat": 4,
 "nbformat_minor": 2
}
