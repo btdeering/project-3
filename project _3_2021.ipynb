{
 "cells": [
  {
   "cell_type": "code",
   "execution_count": 4,
   "metadata": {},
   "outputs": [],
   "source": [
    "# Import dependencies\n",
    "import pandas as pd\n",
    "import numpy as np\n",
    "pd.set_option('max_colwidth', 400)\n",
    "from pymongo import MongoClient\n",
    "from pprint import pprint\n",
    "import json"
   ]
  },
  {
   "attachments": {},
   "cell_type": "markdown",
   "metadata": {},
   "source": [
    "Import the data provided in the `2021.json` file from your Terminal. Name the database `covid_2021` and the collection `nations`.\n",
    "\n",
    "Within this markdown cell, copy the line of text you used to import the data from your Terminal. This way, future analysts will be able to repeat your process.\n",
    "\n",
    "e.g.: Import the dataset with mongoimport --type json -d covid_2021 -c nations --drop --jsonArray 2021.json"
   ]
  },
  {
   "cell_type": "code",
   "execution_count": 5,
   "metadata": {},
   "outputs": [
    {
     "name": "stdout",
     "output_type": "stream",
     "text": [
      "['admin', 'config', 'covid_2021', 'covid_2022', 'local', 'met', 'uk_food']\n"
     ]
    }
   ],
   "source": [
    "# Create an instance of MongoClient\n",
    "mongo = MongoClient(port=27017)\n",
    "\n",
    "# confirm that our new database was created\n",
    "print(mongo.list_database_names())"
   ]
  },
  {
   "cell_type": "code",
   "execution_count": 6,
   "metadata": {},
   "outputs": [],
   "source": [
    "# mongo.drop_database('covid_2021')\n",
    "# mongo.list_database_names()"
   ]
  },
  {
   "cell_type": "code",
   "execution_count": null,
   "metadata": {},
   "outputs": [],
   "source": []
  },
  {
   "cell_type": "code",
   "execution_count": 7,
   "metadata": {},
   "outputs": [],
   "source": [
    "# assign the uk_food database to a variable name\n",
    "db = mongo['covid_2021']"
   ]
  },
  {
   "cell_type": "code",
   "execution_count": 8,
   "metadata": {},
   "outputs": [
    {
     "name": "stdout",
     "output_type": "stream",
     "text": [
      "['nations']\n"
     ]
    }
   ],
   "source": [
    "# review the collections in our database\n",
    "print(db.list_collection_names())"
   ]
  },
  {
   "cell_type": "code",
   "execution_count": 9,
   "metadata": {},
   "outputs": [],
   "source": [
    "# assign the collection to a variable\n",
    "nations = db['nations']"
   ]
  },
  {
   "cell_type": "code",
   "execution_count": 10,
   "metadata": {},
   "outputs": [
    {
     "name": "stdout",
     "output_type": "stream",
     "text": [
      "{'Active': 8585,\n",
      " 'Admin2': '',\n",
      " 'Case_Fatality_Ratio': 4.191343095995277,\n",
      " 'Combined_Key': 'Afghanistan',\n",
      " 'Confirmed': 52513,\n",
      " 'Country_Region': 'Afghanistan',\n",
      " 'Deaths': 2201,\n",
      " 'FIPS': None,\n",
      " 'Incident_Rate': '134.89657830525067',\n",
      " 'Last_Update': '2021-01-02 05:22:33',\n",
      " 'Lat': 33.93911,\n",
      " 'Long_': 67.709953,\n",
      " 'Province_State': '',\n",
      " 'Recovered': 41727,\n",
      " '_id': ObjectId('64a1c449fa9bae443655f8f9')}\n"
     ]
    }
   ],
   "source": [
    "pprint(db.nations.find_one())"
   ]
  },
  {
   "cell_type": "code",
   "execution_count": 11,
   "metadata": {},
   "outputs": [
    {
     "data": {
      "text/plain": [
       "<pymongo.results.UpdateResult at 0x25aed88b310>"
      ]
     },
     "execution_count": 11,
     "metadata": {},
     "output_type": "execute_result"
    }
   ],
   "source": [
    "nations.update_many({}, [\n",
    "    {\n",
    "        '$set': {\n",
    "            'Long_': {\n",
    "                '$cond': [\n",
    "                    { '$ne': ['$Long_', ''] },\n",
    "                    { '$toDouble': '$Long_' },\n",
    "                    None\n",
    "                ]\n",
    "            },\n",
    "            'Lat': {\n",
    "                '$cond': [\n",
    "                    { '$ne': ['$Lat', ''] },\n",
    "                    { '$toDouble': '$Lat' },\n",
    "                    None\n",
    "                ]\n",
    "            },\n",
    "            'Case_Fatality_Ratio': {\n",
    "                '$cond': [\n",
    "                    { '$ne': ['$Case_Fatality_Ratio', ''] },\n",
    "                    { '$toDouble': '$Case_Fatality_Ratio' },\n",
    "                    None\n",
    "                ]\n",
    "            }\n",
    "        }\n",
    "    }\n",
    "])"
   ]
  },
  {
   "cell_type": "code",
   "execution_count": 12,
   "metadata": {},
   "outputs": [
    {
     "name": "stdout",
     "output_type": "stream",
     "text": [
      "{'Active': 8585,\n",
      " 'Admin2': '',\n",
      " 'Case_Fatality_Ratio': 4.191343095995277,\n",
      " 'Combined_Key': 'Afghanistan',\n",
      " 'Confirmed': 52513,\n",
      " 'Country_Region': 'Afghanistan',\n",
      " 'Deaths': 2201,\n",
      " 'FIPS': None,\n",
      " 'Incident_Rate': '134.89657830525067',\n",
      " 'Last_Update': '2021-01-02 05:22:33',\n",
      " 'Lat': 33.93911,\n",
      " 'Long_': 67.709953,\n",
      " 'Province_State': '',\n",
      " 'Recovered': 41727,\n",
      " '_id': ObjectId('64a1c449fa9bae443655f8f9')}\n"
     ]
    }
   ],
   "source": [
    "pprint(db.nations.find_one())"
   ]
  },
  {
   "cell_type": "code",
   "execution_count": 13,
   "metadata": {},
   "outputs": [
    {
     "name": "stdout",
     "output_type": "stream",
     "text": [
      "[{'Active': 1808,\n",
      "  'Admin2': 'Bibb',\n",
      "  'Case_Fatality_Ratio': 2.481121898597627,\n",
      "  'Combined_Key': 'Bibb, Alabama, US',\n",
      "  'Confirmed': 1854,\n",
      "  'Country_Region': 'US',\n",
      "  'Deaths': 46,\n",
      "  'FIPS': 1007,\n",
      "  'Incident_Rate': '8279.003304456552',\n",
      "  'Last_Update': '2021-01-02 05:22:33',\n",
      "  'Lat': 32.99642064,\n",
      "  'Long_': -87.12511459999997,\n",
      "  'Province_State': 'Alabama',\n",
      "  'Recovered': 0,\n",
      "  'Region': 'Southeast',\n",
      "  '_id': ObjectId('64a1c449fa9bae443655fb84')},\n",
      " {'Active': 866,\n",
      "  'Admin2': 'Bullock',\n",
      "  'Case_Fatality_Ratio': 2.4774774774774775,\n",
      "  'Combined_Key': 'Bullock, Alabama, US',\n",
      "  'Confirmed': 888,\n",
      "  'Country_Region': 'US',\n",
      "  'Deaths': 22,\n",
      "  'FIPS': 1011,\n",
      "  'Incident_Rate': '8791.208791208792',\n",
      "  'Last_Update': '2021-01-02 05:22:33',\n",
      "  'Lat': 32.10030533,\n",
      "  'Long_': -85.71265535,\n",
      "  'Province_State': 'Alabama',\n",
      "  'Recovered': 0,\n",
      "  'Region': 'Southeast',\n",
      "  '_id': ObjectId('64a1c449fa9bae443655fb85')},\n",
      " {'Active': 4189,\n",
      "  'Admin2': 'Autauga',\n",
      "  'Case_Fatality_Ratio': 1.179523472517103,\n",
      "  'Combined_Key': 'Autauga, Alabama, US',\n",
      "  'Confirmed': 4239,\n",
      "  'Country_Region': 'US',\n",
      "  'Deaths': 50,\n",
      "  'FIPS': 1001,\n",
      "  'Incident_Rate': '7587.3919347043975',\n",
      "  'Last_Update': '2021-01-02 05:22:33',\n",
      "  'Lat': 32.53952745,\n",
      "  'Long_': -86.64408227,\n",
      "  'Province_State': 'Alabama',\n",
      "  'Recovered': 0,\n",
      "  'Region': 'Southeast',\n",
      "  '_id': ObjectId('64a1c449fa9bae443655fb82')},\n",
      " {'Active': 13654,\n",
      "  'Admin2': 'Baldwin',\n",
      "  'Case_Fatality_Ratio': 1.2226000144686393,\n",
      "  'Combined_Key': 'Baldwin, Alabama, US',\n",
      "  'Confirmed': 13823,\n",
      "  'Country_Region': 'US',\n",
      "  'Deaths': 169,\n",
      "  'FIPS': 1003,\n",
      "  'Incident_Rate': '6192.157108684161',\n",
      "  'Last_Update': '2021-01-02 05:22:33',\n",
      "  'Lat': 30.72774991,\n",
      "  'Long_': -87.72207058,\n",
      "  'Province_State': 'Alabama',\n",
      "  'Recovered': 0,\n",
      "  'Region': 'Southeast',\n",
      "  '_id': ObjectId('64a1c449fa9bae443655fb81')},\n",
      " {'Active': 4630,\n",
      "  'Admin2': 'Blount',\n",
      "  'Case_Fatality_Ratio': 1.3424248881312593,\n",
      "  'Combined_Key': 'Blount, Alabama, US',\n",
      "  'Confirmed': 4693,\n",
      "  'Country_Region': 'US',\n",
      "  'Deaths': 63,\n",
      "  'FIPS': 1009,\n",
      "  'Incident_Rate': '8115.72648981427',\n",
      "  'Last_Update': '2021-01-02 05:22:33',\n",
      "  'Lat': 33.98210918,\n",
      "  'Long_': -86.56790593,\n",
      "  'Province_State': 'Alabama',\n",
      "  'Recovered': 0,\n",
      "  'Region': 'Southeast',\n",
      "  '_id': ObjectId('64a1c449fa9bae443655fb83')}]\n"
     ]
    }
   ],
   "source": [
    "# Find All USA\n",
    "query = {'Country_Region': 'US'}\n",
    "results = nations.find(query)\n",
    "sort = [(\"Province_State\", 1)]\n",
    "limit = 5\n",
    "results = list(nations.find(query).sort(sort).limit(limit))\n",
    "\n",
    "pprint(results)\n"
   ]
  },
  {
   "cell_type": "code",
   "execution_count": 14,
   "metadata": {},
   "outputs": [
    {
     "data": {
      "text/plain": [
       "<pymongo.results.UpdateResult at 0x25aed88bc70>"
      ]
     },
     "execution_count": 14,
     "metadata": {},
     "output_type": "execute_result"
    }
   ],
   "source": [
    "#Inserting Regions \n",
    "query = {'Province_State': 'Alabama'}\n",
    "update = {'$set': {'Region': 'Southeast'}}\n",
    "\n",
    "nations.update_many(query, update)\n"
   ]
  },
  {
   "cell_type": "code",
   "execution_count": 15,
   "metadata": {},
   "outputs": [
    {
     "data": {
      "text/plain": [
       "<pymongo.results.UpdateResult at 0x25aed860df0>"
      ]
     },
     "execution_count": 15,
     "metadata": {},
     "output_type": "execute_result"
    }
   ],
   "source": [
    "#Inserting Regions \n",
    "query = {'Province_State': 'Louisiana'}\n",
    "update = {'$set': {'Region': 'Southeast'}}\n",
    "\n",
    "nations.update_many(query, update)"
   ]
  },
  {
   "cell_type": "code",
   "execution_count": 16,
   "metadata": {},
   "outputs": [
    {
     "data": {
      "text/plain": [
       "<pymongo.results.UpdateResult at 0x25aed88bd00>"
      ]
     },
     "execution_count": 16,
     "metadata": {},
     "output_type": "execute_result"
    }
   ],
   "source": [
    "#Inserting Regions \n",
    "query = {'Province_State': 'Arkansas'}\n",
    "update = {'$set': {'Region': 'Southeast'}}\n",
    "\n",
    "nations.update_many(query, update)"
   ]
  },
  {
   "cell_type": "code",
   "execution_count": 17,
   "metadata": {},
   "outputs": [
    {
     "data": {
      "text/plain": [
       "<pymongo.results.UpdateResult at 0x25aece3c1f0>"
      ]
     },
     "execution_count": 17,
     "metadata": {},
     "output_type": "execute_result"
    }
   ],
   "source": [
    "#Inserting Regions \n",
    "query = {'Province_State': 'Mississippi'}\n",
    "update = {'$set': {'Region': 'Southeast'}}\n",
    "\n",
    "nations.update_many(query, update)"
   ]
  },
  {
   "cell_type": "code",
   "execution_count": 18,
   "metadata": {},
   "outputs": [
    {
     "data": {
      "text/plain": [
       "<pymongo.results.UpdateResult at 0x25ae968b5b0>"
      ]
     },
     "execution_count": 18,
     "metadata": {},
     "output_type": "execute_result"
    }
   ],
   "source": [
    "#Inserting Regions \n",
    "query = {'Province_State': 'Tennessee'}\n",
    "update = {'$set': {'Region': 'Southeast'}}\n",
    "\n",
    "nations.update_many(query, update)"
   ]
  },
  {
   "cell_type": "code",
   "execution_count": 19,
   "metadata": {},
   "outputs": [
    {
     "data": {
      "text/plain": [
       "<pymongo.results.UpdateResult at 0x25aed860dc0>"
      ]
     },
     "execution_count": 19,
     "metadata": {},
     "output_type": "execute_result"
    }
   ],
   "source": [
    "#Inserting Regions \n",
    "query = {'Province_State': 'Florida'}\n",
    "update = {'$set': {'Region': 'Southeast'}}\n",
    "\n",
    "nations.update_many(query, update)"
   ]
  },
  {
   "cell_type": "code",
   "execution_count": 20,
   "metadata": {},
   "outputs": [
    {
     "data": {
      "text/plain": [
       "<pymongo.results.UpdateResult at 0x25aecc178b0>"
      ]
     },
     "execution_count": 20,
     "metadata": {},
     "output_type": "execute_result"
    }
   ],
   "source": [
    "#Inserting Regions \n",
    "query = {'Province_State': 'Georgia'}\n",
    "update = {'$set': {'Region': 'Southeast'}}\n",
    "\n",
    "nations.update_many(query, update)"
   ]
  },
  {
   "cell_type": "code",
   "execution_count": 21,
   "metadata": {},
   "outputs": [
    {
     "data": {
      "text/plain": [
       "<pymongo.results.UpdateResult at 0x25ae9b3a040>"
      ]
     },
     "execution_count": 21,
     "metadata": {},
     "output_type": "execute_result"
    }
   ],
   "source": [
    "#Inserting Regions \n",
    "query = {'Province_State': 'Kentucky'}\n",
    "update = {'$set': {'Region': 'Southeast'}}\n",
    "\n",
    "nations.update_many(query, update)"
   ]
  },
  {
   "cell_type": "code",
   "execution_count": 22,
   "metadata": {},
   "outputs": [
    {
     "data": {
      "text/plain": [
       "<pymongo.results.UpdateResult at 0x25ae973f970>"
      ]
     },
     "execution_count": 22,
     "metadata": {},
     "output_type": "execute_result"
    }
   ],
   "source": [
    "#Inserting Regions \n",
    "query = {'Province_State': 'South Carolina'}\n",
    "update = {'$set': {'Region': 'Southeast'}}\n",
    "\n",
    "nations.update_many(query, update)"
   ]
  },
  {
   "cell_type": "code",
   "execution_count": 23,
   "metadata": {},
   "outputs": [
    {
     "data": {
      "text/plain": [
       "<pymongo.results.UpdateResult at 0x25aed860a00>"
      ]
     },
     "execution_count": 23,
     "metadata": {},
     "output_type": "execute_result"
    }
   ],
   "source": [
    "#Inserting Regions \n",
    "query = {'Province_State': 'North Carolina'}\n",
    "update = {'$set': {'Region': 'Southeast'}}\n",
    "\n",
    "nations.update_many(query, update)"
   ]
  },
  {
   "cell_type": "code",
   "execution_count": 24,
   "metadata": {},
   "outputs": [
    {
     "data": {
      "text/plain": [
       "<pymongo.results.UpdateResult at 0x25aed8605e0>"
      ]
     },
     "execution_count": 24,
     "metadata": {},
     "output_type": "execute_result"
    }
   ],
   "source": [
    "#Inserting Regions \n",
    "query = {'Province_State': 'Virginia'}\n",
    "update = {'$set': {'Region': 'Southeast'}}\n",
    "\n",
    "nations.update_many(query, update)"
   ]
  },
  {
   "cell_type": "code",
   "execution_count": 25,
   "metadata": {},
   "outputs": [
    {
     "data": {
      "text/plain": [
       "<pymongo.results.UpdateResult at 0x25ae9b3afa0>"
      ]
     },
     "execution_count": 25,
     "metadata": {},
     "output_type": "execute_result"
    }
   ],
   "source": [
    "#Inserting Regions \n",
    "query = {'Province_State': 'West Virginia'}\n",
    "update = {'$set': {'Region': 'Southeast'}}\n",
    "\n",
    "nations.update_many(query, update)"
   ]
  },
  {
   "cell_type": "code",
   "execution_count": 26,
   "metadata": {},
   "outputs": [
    {
     "data": {
      "text/plain": [
       "<pymongo.results.UpdateResult at 0x25aed860610>"
      ]
     },
     "execution_count": 26,
     "metadata": {},
     "output_type": "execute_result"
    }
   ],
   "source": [
    "#Inserting Regions \n",
    "query = {'Province_State': 'Texas'}\n",
    "update = {'$set': {'Region': 'Southwest'}}\n",
    "\n",
    "nations.update_many(query, update)"
   ]
  },
  {
   "cell_type": "code",
   "execution_count": 27,
   "metadata": {},
   "outputs": [
    {
     "data": {
      "text/plain": [
       "<pymongo.results.UpdateResult at 0x25aed860f40>"
      ]
     },
     "execution_count": 27,
     "metadata": {},
     "output_type": "execute_result"
    }
   ],
   "source": [
    "#Inserting Regions \n",
    "query = {'Province_State': 'Oklahoma'}\n",
    "update = {'$set': {'Region': 'Southwest'}}\n",
    "\n",
    "nations.update_many(query, update)"
   ]
  },
  {
   "cell_type": "code",
   "execution_count": 28,
   "metadata": {},
   "outputs": [
    {
     "data": {
      "text/plain": [
       "<pymongo.results.UpdateResult at 0x25aed860f70>"
      ]
     },
     "execution_count": 28,
     "metadata": {},
     "output_type": "execute_result"
    }
   ],
   "source": [
    "#Inserting Regions \n",
    "query = {'Province_State': 'New Mexico'}\n",
    "update = {'$set': {'Region': 'Southwest'}}\n",
    "\n",
    "nations.update_many(query, update)"
   ]
  },
  {
   "cell_type": "code",
   "execution_count": 29,
   "metadata": {},
   "outputs": [
    {
     "data": {
      "text/plain": [
       "<pymongo.results.UpdateResult at 0x25aecc17af0>"
      ]
     },
     "execution_count": 29,
     "metadata": {},
     "output_type": "execute_result"
    }
   ],
   "source": [
    "#Inserting Regions \n",
    "query = {'Province_State': 'Arizona'}\n",
    "update = {'$set': {'Region': 'Southwest'}}\n",
    "\n",
    "nations.update_many(query, update)"
   ]
  },
  {
   "cell_type": "code",
   "execution_count": 30,
   "metadata": {},
   "outputs": [
    {
     "data": {
      "text/plain": [
       "<pymongo.results.UpdateResult at 0x25aed88b550>"
      ]
     },
     "execution_count": 30,
     "metadata": {},
     "output_type": "execute_result"
    }
   ],
   "source": [
    "#Inserting Regions \n",
    "query = {'Province_State': 'California'}\n",
    "update = {'$set': {'Region': 'Pacific'}}\n",
    "\n",
    "nations.update_many(query, update)"
   ]
  },
  {
   "cell_type": "code",
   "execution_count": 31,
   "metadata": {},
   "outputs": [
    {
     "data": {
      "text/plain": [
       "<pymongo.results.UpdateResult at 0x25aed860ca0>"
      ]
     },
     "execution_count": 31,
     "metadata": {},
     "output_type": "execute_result"
    }
   ],
   "source": [
    "#Inserting Regions \n",
    "query = {'Province_State': 'Washington'}\n",
    "update = {'$set': {'Region': 'Pacific'}}\n",
    "\n",
    "nations.update_many(query, update)"
   ]
  },
  {
   "cell_type": "code",
   "execution_count": 32,
   "metadata": {},
   "outputs": [
    {
     "data": {
      "text/plain": [
       "<pymongo.results.UpdateResult at 0x25aed8605b0>"
      ]
     },
     "execution_count": 32,
     "metadata": {},
     "output_type": "execute_result"
    }
   ],
   "source": [
    "#Inserting Regions \n",
    "query = {'Province_State': 'Oregon'}\n",
    "update = {'$set': {'Region': 'Pacific'}}\n",
    "\n",
    "nations.update_many(query, update)"
   ]
  },
  {
   "cell_type": "code",
   "execution_count": 33,
   "metadata": {},
   "outputs": [
    {
     "data": {
      "text/plain": [
       "<pymongo.results.UpdateResult at 0x25aed860b80>"
      ]
     },
     "execution_count": 33,
     "metadata": {},
     "output_type": "execute_result"
    }
   ],
   "source": [
    "#Inserting Regions \n",
    "query = {'Province_State': 'Alaska'}\n",
    "update = {'$set': {'Region': 'Pacific'}}\n",
    "\n",
    "nations.update_many(query, update)"
   ]
  },
  {
   "cell_type": "code",
   "execution_count": 34,
   "metadata": {},
   "outputs": [
    {
     "data": {
      "text/plain": [
       "<pymongo.results.UpdateResult at 0x25aed860fa0>"
      ]
     },
     "execution_count": 34,
     "metadata": {},
     "output_type": "execute_result"
    }
   ],
   "source": [
    "#Inserting Regions \n",
    "query = {'Province_State': 'Hawaii'}\n",
    "update = {'$set': {'Region': 'Pacific'}}\n",
    "\n",
    "nations.update_many(query, update)"
   ]
  },
  {
   "cell_type": "code",
   "execution_count": 35,
   "metadata": {},
   "outputs": [
    {
     "data": {
      "text/plain": [
       "<pymongo.results.UpdateResult at 0x25ae9b471f0>"
      ]
     },
     "execution_count": 35,
     "metadata": {},
     "output_type": "execute_result"
    }
   ],
   "source": [
    "#Inserting Regions \n",
    "query = {'Province_State': 'Nevada'}\n",
    "update = {'$set': {'Region': 'Rocky_Mountain'}}\n",
    "\n",
    "nations.update_many(query, update)"
   ]
  },
  {
   "cell_type": "code",
   "execution_count": 36,
   "metadata": {},
   "outputs": [
    {
     "data": {
      "text/plain": [
       "<pymongo.results.UpdateResult at 0x25ae9b3afd0>"
      ]
     },
     "execution_count": 36,
     "metadata": {},
     "output_type": "execute_result"
    }
   ],
   "source": [
    "#Inserting Regions \n",
    "query = {'Province_State': 'Idaho'}\n",
    "update = {'$set': {'Region': 'Rocky_Mountain'}}\n",
    "\n",
    "nations.update_many(query, update)"
   ]
  },
  {
   "cell_type": "code",
   "execution_count": 37,
   "metadata": {},
   "outputs": [
    {
     "data": {
      "text/plain": [
       "<pymongo.results.UpdateResult at 0x25ae9b47280>"
      ]
     },
     "execution_count": 37,
     "metadata": {},
     "output_type": "execute_result"
    }
   ],
   "source": [
    "#Inserting Regions \n",
    "query = {'Province_State': 'Utah'}\n",
    "update = {'$set': {'Region': 'Rocky_Mountain'}}\n",
    "\n",
    "nations.update_many(query, update)"
   ]
  },
  {
   "cell_type": "code",
   "execution_count": 38,
   "metadata": {},
   "outputs": [
    {
     "data": {
      "text/plain": [
       "<pymongo.results.UpdateResult at 0x25ae9b47f40>"
      ]
     },
     "execution_count": 38,
     "metadata": {},
     "output_type": "execute_result"
    }
   ],
   "source": [
    "#Inserting Regions \n",
    "query = {'Province_State': 'Colorado'}\n",
    "update = {'$set': {'Region': 'Rocky_Mountain'}}\n",
    "\n",
    "nations.update_many(query, update)"
   ]
  },
  {
   "cell_type": "code",
   "execution_count": 39,
   "metadata": {},
   "outputs": [
    {
     "data": {
      "text/plain": [
       "<pymongo.results.UpdateResult at 0x25ae9b47340>"
      ]
     },
     "execution_count": 39,
     "metadata": {},
     "output_type": "execute_result"
    }
   ],
   "source": [
    "#Inserting Regions \n",
    "query = {'Province_State': 'Wyoming'}\n",
    "update = {'$set': {'Region': 'Rocky_Mountain'}}\n",
    "\n",
    "nations.update_many(query, update)"
   ]
  },
  {
   "cell_type": "code",
   "execution_count": 40,
   "metadata": {},
   "outputs": [
    {
     "data": {
      "text/plain": [
       "<pymongo.results.UpdateResult at 0x25ae9b47100>"
      ]
     },
     "execution_count": 40,
     "metadata": {},
     "output_type": "execute_result"
    }
   ],
   "source": [
    "#Inserting Regions \n",
    "query = {'Province_State': 'Montana'}\n",
    "update = {'$set': {'Region': 'Rocky_Mountain'}}\n",
    "\n",
    "nations.update_many(query, update)"
   ]
  },
  {
   "cell_type": "code",
   "execution_count": 41,
   "metadata": {},
   "outputs": [
    {
     "data": {
      "text/plain": [
       "<pymongo.results.UpdateResult at 0x25ae9b47130>"
      ]
     },
     "execution_count": 41,
     "metadata": {},
     "output_type": "execute_result"
    }
   ],
   "source": [
    "#Inserting Regions \n",
    "query = {'Province_State': 'North Dakota'}\n",
    "update = {'$set': {'Region': 'Midwest'}}\n",
    "\n",
    "nations.update_many(query, update)"
   ]
  },
  {
   "cell_type": "code",
   "execution_count": 42,
   "metadata": {},
   "outputs": [
    {
     "data": {
      "text/plain": [
       "<pymongo.results.UpdateResult at 0x25aed860eb0>"
      ]
     },
     "execution_count": 42,
     "metadata": {},
     "output_type": "execute_result"
    }
   ],
   "source": [
    "#Inserting Regions \n",
    "query = {'Province_State': 'South Dakota'}\n",
    "update = {'$set': {'Region': 'Midwest'}}\n",
    "\n",
    "nations.update_many(query, update)"
   ]
  },
  {
   "cell_type": "code",
   "execution_count": 43,
   "metadata": {},
   "outputs": [
    {
     "data": {
      "text/plain": [
       "<pymongo.results.UpdateResult at 0x25aed860d30>"
      ]
     },
     "execution_count": 43,
     "metadata": {},
     "output_type": "execute_result"
    }
   ],
   "source": [
    "#Inserting Regions \n",
    "query = {'Province_State': 'Nebraska'}\n",
    "update = {'$set': {'Region': 'Midwest'}}\n",
    "\n",
    "nations.update_many(query, update)"
   ]
  },
  {
   "cell_type": "code",
   "execution_count": 44,
   "metadata": {},
   "outputs": [
    {
     "data": {
      "text/plain": [
       "<pymongo.results.UpdateResult at 0x25aed88b160>"
      ]
     },
     "execution_count": 44,
     "metadata": {},
     "output_type": "execute_result"
    }
   ],
   "source": [
    "#Inserting Regions \n",
    "query = {'Province_State': 'Kansas'}\n",
    "update = {'$set': {'Region': 'Midwest'}}\n",
    "\n",
    "nations.update_many(query, update)"
   ]
  },
  {
   "cell_type": "code",
   "execution_count": 45,
   "metadata": {},
   "outputs": [
    {
     "data": {
      "text/plain": [
       "<pymongo.results.UpdateResult at 0x25ae9b47e80>"
      ]
     },
     "execution_count": 45,
     "metadata": {},
     "output_type": "execute_result"
    }
   ],
   "source": [
    "#Inserting Regions \n",
    "query = {'Province_State': 'Minnesota'}\n",
    "update = {'$set': {'Region': 'Midwest'}}\n",
    "\n",
    "nations.update_many(query, update)"
   ]
  },
  {
   "cell_type": "code",
   "execution_count": 46,
   "metadata": {},
   "outputs": [
    {
     "data": {
      "text/plain": [
       "<pymongo.results.UpdateResult at 0x25ae975ec70>"
      ]
     },
     "execution_count": 46,
     "metadata": {},
     "output_type": "execute_result"
    }
   ],
   "source": [
    "#Inserting Regions \n",
    "query = {'Province_State': 'Iowa'}\n",
    "update = {'$set': {'Region': 'Midwest'}}\n",
    "\n",
    "nations.update_many(query, update)"
   ]
  },
  {
   "cell_type": "code",
   "execution_count": 47,
   "metadata": {},
   "outputs": [
    {
     "data": {
      "text/plain": [
       "<pymongo.results.UpdateResult at 0x25aed860fd0>"
      ]
     },
     "execution_count": 47,
     "metadata": {},
     "output_type": "execute_result"
    }
   ],
   "source": [
    "#Inserting Regions \n",
    "query = {'Province_State': 'Missouri'}\n",
    "update = {'$set': {'Region': 'Midwest'}}\n",
    "\n",
    "nations.update_many(query, update)"
   ]
  },
  {
   "cell_type": "code",
   "execution_count": 48,
   "metadata": {},
   "outputs": [
    {
     "data": {
      "text/plain": [
       "<pymongo.results.UpdateResult at 0x25aed860520>"
      ]
     },
     "execution_count": 48,
     "metadata": {},
     "output_type": "execute_result"
    }
   ],
   "source": [
    "#Inserting Regions \n",
    "query = {'Province_State': 'Wisconsin'}\n",
    "update = {'$set': {'Region': 'Midwest'}}\n",
    "\n",
    "nations.update_many(query, update)"
   ]
  },
  {
   "cell_type": "code",
   "execution_count": 49,
   "metadata": {},
   "outputs": [
    {
     "data": {
      "text/plain": [
       "<pymongo.results.UpdateResult at 0x25ae9c289a0>"
      ]
     },
     "execution_count": 49,
     "metadata": {},
     "output_type": "execute_result"
    }
   ],
   "source": [
    "#Inserting Regions \n",
    "query = {'Province_State': 'Illinois'}\n",
    "update = {'$set': {'Region': 'Midwest'}}\n",
    "\n",
    "nations.update_many(query, update)"
   ]
  },
  {
   "cell_type": "code",
   "execution_count": 50,
   "metadata": {},
   "outputs": [
    {
     "data": {
      "text/plain": [
       "<pymongo.results.UpdateResult at 0x25aed860d60>"
      ]
     },
     "execution_count": 50,
     "metadata": {},
     "output_type": "execute_result"
    }
   ],
   "source": [
    "#Inserting Regions \n",
    "query = {'Province_State': 'Indiana'}\n",
    "update = {'$set': {'Region': 'Midwest'}}\n",
    "\n",
    "nations.update_many(query, update)"
   ]
  },
  {
   "cell_type": "code",
   "execution_count": 51,
   "metadata": {},
   "outputs": [
    {
     "data": {
      "text/plain": [
       "<pymongo.results.UpdateResult at 0x25ae9c28c10>"
      ]
     },
     "execution_count": 51,
     "metadata": {},
     "output_type": "execute_result"
    }
   ],
   "source": [
    "#Inserting Regions \n",
    "query = {'Province_State': 'Michigan'}\n",
    "update = {'$set': {'Region': 'Midwest'}}\n",
    "\n",
    "nations.update_many(query, update)"
   ]
  },
  {
   "cell_type": "code",
   "execution_count": 52,
   "metadata": {},
   "outputs": [
    {
     "data": {
      "text/plain": [
       "<pymongo.results.UpdateResult at 0x25aed860640>"
      ]
     },
     "execution_count": 52,
     "metadata": {},
     "output_type": "execute_result"
    }
   ],
   "source": [
    "#Inserting Regions \n",
    "query = {'Province_State': 'Ohio'}\n",
    "update = {'$set': {'Region': 'Midwest'}}\n",
    "\n",
    "nations.update_many(query, update)"
   ]
  },
  {
   "cell_type": "code",
   "execution_count": 53,
   "metadata": {},
   "outputs": [
    {
     "data": {
      "text/plain": [
       "<pymongo.results.UpdateResult at 0x25aed88bb80>"
      ]
     },
     "execution_count": 53,
     "metadata": {},
     "output_type": "execute_result"
    }
   ],
   "source": [
    "#Inserting Regions \n",
    "query = {'Province_State': 'Maryland'}\n",
    "update = {'$set': {'Region': 'Northeast'}}\n",
    "\n",
    "nations.update_many(query, update)"
   ]
  },
  {
   "cell_type": "code",
   "execution_count": 54,
   "metadata": {},
   "outputs": [
    {
     "data": {
      "text/plain": [
       "<pymongo.results.UpdateResult at 0x25ae975e970>"
      ]
     },
     "execution_count": 54,
     "metadata": {},
     "output_type": "execute_result"
    }
   ],
   "source": [
    "#Inserting Regions \n",
    "query = {'Province_State': 'Delaware'}\n",
    "update = {'$set': {'Region': 'Northeast'}}\n",
    "\n",
    "nations.update_many(query, update)"
   ]
  },
  {
   "cell_type": "code",
   "execution_count": 55,
   "metadata": {},
   "outputs": [
    {
     "data": {
      "text/plain": [
       "<pymongo.results.UpdateResult at 0x25ae9b47fa0>"
      ]
     },
     "execution_count": 55,
     "metadata": {},
     "output_type": "execute_result"
    }
   ],
   "source": [
    "#Inserting Regions \n",
    "query = {'Province_State': 'Pennsylvania'}\n",
    "update = {'$set': {'Region': 'Northeast'}}\n",
    "\n",
    "nations.update_many(query, update)"
   ]
  },
  {
   "cell_type": "code",
   "execution_count": 56,
   "metadata": {},
   "outputs": [
    {
     "data": {
      "text/plain": [
       "<pymongo.results.UpdateResult at 0x25aed88bbe0>"
      ]
     },
     "execution_count": 56,
     "metadata": {},
     "output_type": "execute_result"
    }
   ],
   "source": [
    "#Inserting Regions \n",
    "query = {'Province_State': 'New Jersey'}\n",
    "update = {'$set': {'Region': 'Northeast'}}\n",
    "\n",
    "nations.update_many(query, update)"
   ]
  },
  {
   "cell_type": "code",
   "execution_count": 57,
   "metadata": {},
   "outputs": [
    {
     "data": {
      "text/plain": [
       "<pymongo.results.UpdateResult at 0x25ae975e8e0>"
      ]
     },
     "execution_count": 57,
     "metadata": {},
     "output_type": "execute_result"
    }
   ],
   "source": [
    "query = {'Province_State': 'New York'}\n",
    "update = {'$set': {'Region': 'Northeast'}}\n",
    "\n",
    "nations.update_many(query, update)"
   ]
  },
  {
   "cell_type": "code",
   "execution_count": 58,
   "metadata": {},
   "outputs": [
    {
     "data": {
      "text/plain": [
       "<pymongo.results.UpdateResult at 0x25aed88b5e0>"
      ]
     },
     "execution_count": 58,
     "metadata": {},
     "output_type": "execute_result"
    }
   ],
   "source": [
    "query = {'Province_State': 'Rhode Island'}\n",
    "update = {'$set': {'Region': 'Northeast'}}\n",
    "\n",
    "nations.update_many(query, update)"
   ]
  },
  {
   "cell_type": "code",
   "execution_count": 59,
   "metadata": {},
   "outputs": [
    {
     "data": {
      "text/plain": [
       "<pymongo.results.UpdateResult at 0x25ae9b42190>"
      ]
     },
     "execution_count": 59,
     "metadata": {},
     "output_type": "execute_result"
    }
   ],
   "source": [
    "query = {'Province_State': 'Connecticut'}\n",
    "update = {'$set': {'Region': 'Northeast'}}\n",
    "\n",
    "nations.update_many(query, update)"
   ]
  },
  {
   "cell_type": "code",
   "execution_count": 60,
   "metadata": {},
   "outputs": [
    {
     "data": {
      "text/plain": [
       "<pymongo.results.UpdateResult at 0x25ae9c28a30>"
      ]
     },
     "execution_count": 60,
     "metadata": {},
     "output_type": "execute_result"
    }
   ],
   "source": [
    "query = {'Province_State': 'Massachusetts'}\n",
    "update = {'$set': {'Region': 'Northeast'}}\n",
    "\n",
    "nations.update_many(query, update)"
   ]
  },
  {
   "cell_type": "code",
   "execution_count": 61,
   "metadata": {},
   "outputs": [
    {
     "data": {
      "text/plain": [
       "<pymongo.results.UpdateResult at 0x25ae9b42820>"
      ]
     },
     "execution_count": 61,
     "metadata": {},
     "output_type": "execute_result"
    }
   ],
   "source": [
    "query = {'Province_State': 'Vermont'}\n",
    "update = {'$set': {'Region': 'Northeast'}}\n",
    "\n",
    "nations.update_many(query, update)"
   ]
  },
  {
   "cell_type": "code",
   "execution_count": 62,
   "metadata": {},
   "outputs": [
    {
     "data": {
      "text/plain": [
       "<pymongo.results.UpdateResult at 0x25ae9b42bb0>"
      ]
     },
     "execution_count": 62,
     "metadata": {},
     "output_type": "execute_result"
    }
   ],
   "source": [
    "query = {'Province_State': 'New Hampshire'}\n",
    "update = {'$set': {'Region': 'Northeast'}}\n",
    "\n",
    "nations.update_many(query, update)"
   ]
  },
  {
   "cell_type": "code",
   "execution_count": 63,
   "metadata": {},
   "outputs": [
    {
     "data": {
      "text/plain": [
       "<pymongo.results.UpdateResult at 0x25ae9b42970>"
      ]
     },
     "execution_count": 63,
     "metadata": {},
     "output_type": "execute_result"
    }
   ],
   "source": [
    "query = {'Province_State': 'Maine'}\n",
    "update = {'$set': {'Region': 'Northeast'}}\n",
    "\n",
    "nations.update_many(query, update)"
   ]
  },
  {
   "cell_type": "code",
   "execution_count": 64,
   "metadata": {},
   "outputs": [],
   "source": [
    "pipeline = [\n",
    "    {\n",
    "        '$match': {\n",
    "            'Country_Region': 'US'\n",
    "        }\n",
    "    },\n",
    "    {\n",
    "        '$group': {\n",
    "            '_id': {\n",
    "                'State': '$Province_State',\n",
    "                'Region': '$Region'\n",
    "                \n",
    "            },\n",
    "            'average_lat': {\n",
    "                '$avg': '$Lat'\n",
    "            },\n",
    "            'average_long': {\n",
    "                '$avg': '$Long_'\n",
    "            },\n",
    "            'total_confirmed': {\n",
    "                '$sum': '$Confirmed'\n",
    "            },\n",
    "            'total_deaths' : {\n",
    "                '$sum': '$Deaths'\n",
    "            },\n",
    "            \n",
    "            'average_case_fatality_ratio': {\n",
    "                '$avg': '$Case_Fatality_Ratio'\n",
    "            }\n",
    "            }\n",
    "        }\n",
    "    \n",
    "]\n",
    "\n",
    "results = list(nations.aggregate(pipeline))\n",
    "\n",
    "\n",
    "\n"
   ]
  },
  {
   "cell_type": "code",
   "execution_count": 65,
   "metadata": {},
   "outputs": [
    {
     "name": "stdout",
     "output_type": "stream",
     "text": [
      "Rows in DataFrame: 58\n"
     ]
    },
    {
     "data": {
      "text/html": [
       "<div>\n",
       "<style scoped>\n",
       "    .dataframe tbody tr th:only-of-type {\n",
       "        vertical-align: middle;\n",
       "    }\n",
       "\n",
       "    .dataframe tbody tr th {\n",
       "        vertical-align: top;\n",
       "    }\n",
       "\n",
       "    .dataframe thead th {\n",
       "        text-align: right;\n",
       "    }\n",
       "</style>\n",
       "<table border=\"1\" class=\"dataframe\">\n",
       "  <thead>\n",
       "    <tr style=\"text-align: right;\">\n",
       "      <th></th>\n",
       "      <th>average_lat</th>\n",
       "      <th>average_long</th>\n",
       "      <th>total_confirmed</th>\n",
       "      <th>total_deaths</th>\n",
       "      <th>average_case_fatality_ratio</th>\n",
       "      <th>State</th>\n",
       "      <th>Region</th>\n",
       "    </tr>\n",
       "  </thead>\n",
       "  <tbody>\n",
       "    <tr>\n",
       "      <th>0</th>\n",
       "      <td>35.501914</td>\n",
       "      <td>-97.251400</td>\n",
       "      <td>291209</td>\n",
       "      <td>2489</td>\n",
       "      <td>0.929672</td>\n",
       "      <td>Oklahoma</td>\n",
       "      <td>Southwest</td>\n",
       "    </tr>\n",
       "    <tr>\n",
       "      <th>1</th>\n",
       "      <td>NaN</td>\n",
       "      <td>NaN</td>\n",
       "      <td>103</td>\n",
       "      <td>3</td>\n",
       "      <td>2.912621</td>\n",
       "      <td>Grand Princess</td>\n",
       "      <td>NaN</td>\n",
       "    </tr>\n",
       "    <tr>\n",
       "      <th>2</th>\n",
       "      <td>41.321795</td>\n",
       "      <td>-99.039012</td>\n",
       "      <td>167716</td>\n",
       "      <td>1668</td>\n",
       "      <td>1.396153</td>\n",
       "      <td>Nebraska</td>\n",
       "      <td>Midwest</td>\n",
       "    </tr>\n",
       "    <tr>\n",
       "      <th>3</th>\n",
       "      <td>33.957472</td>\n",
       "      <td>-80.983400</td>\n",
       "      <td>307507</td>\n",
       "      <td>5296</td>\n",
       "      <td>2.185987</td>\n",
       "      <td>South Carolina</td>\n",
       "      <td>Southeast</td>\n",
       "    </tr>\n",
       "    <tr>\n",
       "      <th>4</th>\n",
       "      <td>NaN</td>\n",
       "      <td>NaN</td>\n",
       "      <td>49</td>\n",
       "      <td>0</td>\n",
       "      <td>0.000000</td>\n",
       "      <td>Diamond Princess</td>\n",
       "      <td>NaN</td>\n",
       "    </tr>\n",
       "    <tr>\n",
       "      <th>5</th>\n",
       "      <td>32.792727</td>\n",
       "      <td>-89.645726</td>\n",
       "      <td>218386</td>\n",
       "      <td>4816</td>\n",
       "      <td>2.508942</td>\n",
       "      <td>Mississippi</td>\n",
       "      <td>Southeast</td>\n",
       "    </tr>\n",
       "    <tr>\n",
       "      <th>6</th>\n",
       "      <td>13.444300</td>\n",
       "      <td>144.793700</td>\n",
       "      <td>7326</td>\n",
       "      <td>122</td>\n",
       "      <td>1.665302</td>\n",
       "      <td>Guam</td>\n",
       "      <td>NaN</td>\n",
       "    </tr>\n",
       "    <tr>\n",
       "      <th>7</th>\n",
       "      <td>37.566150</td>\n",
       "      <td>-78.513712</td>\n",
       "      <td>354766</td>\n",
       "      <td>5081</td>\n",
       "      <td>1.663124</td>\n",
       "      <td>Virginia</td>\n",
       "      <td>Southeast</td>\n",
       "    </tr>\n",
       "    <tr>\n",
       "      <th>8</th>\n",
       "      <td>44.159496</td>\n",
       "      <td>-72.684381</td>\n",
       "      <td>7412</td>\n",
       "      <td>136</td>\n",
       "      <td>1.170938</td>\n",
       "      <td>Vermont</td>\n",
       "      <td>Northeast</td>\n",
       "    </tr>\n",
       "    <tr>\n",
       "      <th>9</th>\n",
       "      <td>28.940755</td>\n",
       "      <td>-82.700744</td>\n",
       "      <td>1323315</td>\n",
       "      <td>21673</td>\n",
       "      <td>1.803136</td>\n",
       "      <td>Florida</td>\n",
       "      <td>Southeast</td>\n",
       "    </tr>\n",
       "  </tbody>\n",
       "</table>\n",
       "</div>"
      ],
      "text/plain": [
       "   average_lat  average_long  total_confirmed  total_deaths  \\\n",
       "0    35.501914    -97.251400           291209          2489   \n",
       "1          NaN           NaN              103             3   \n",
       "2    41.321795    -99.039012           167716          1668   \n",
       "3    33.957472    -80.983400           307507          5296   \n",
       "4          NaN           NaN               49             0   \n",
       "5    32.792727    -89.645726           218386          4816   \n",
       "6    13.444300    144.793700             7326           122   \n",
       "7    37.566150    -78.513712           354766          5081   \n",
       "8    44.159496    -72.684381             7412           136   \n",
       "9    28.940755    -82.700744          1323315         21673   \n",
       "\n",
       "   average_case_fatality_ratio             State     Region  \n",
       "0                     0.929672          Oklahoma  Southwest  \n",
       "1                     2.912621    Grand Princess        NaN  \n",
       "2                     1.396153          Nebraska    Midwest  \n",
       "3                     2.185987    South Carolina  Southeast  \n",
       "4                     0.000000  Diamond Princess        NaN  \n",
       "5                     2.508942       Mississippi  Southeast  \n",
       "6                     1.665302              Guam        NaN  \n",
       "7                     1.663124          Virginia  Southeast  \n",
       "8                     1.170938           Vermont  Northeast  \n",
       "9                     1.803136           Florida  Southeast  "
      ]
     },
     "execution_count": 65,
     "metadata": {},
     "output_type": "execute_result"
    }
   ],
   "source": [
    "# Convert mongo result to Pandas DataFrame\n",
    "result_df = pd.DataFrame(results)\n",
    "\n",
    "# Separate Region and State into separate columns\n",
    "result_df[['State', 'Region']] = result_df['_id'].apply(pd.Series)\n",
    "result_df.drop('_id', axis=1, inplace=True)\n",
    "\n",
    "# Print the number of rows in the DataFrame\n",
    "print(\"Rows in DataFrame:\", len(result_df))\n",
    "\n",
    "# Print the DataFrame\n",
    "result_df.head(10)"
   ]
  },
  {
   "cell_type": "code",
   "execution_count": 66,
   "metadata": {},
   "outputs": [
    {
     "name": "stdout",
     "output_type": "stream",
     "text": [
      "Rows in DataFrame: 50\n"
     ]
    },
    {
     "data": {
      "text/html": [
       "<div>\n",
       "<style scoped>\n",
       "    .dataframe tbody tr th:only-of-type {\n",
       "        vertical-align: middle;\n",
       "    }\n",
       "\n",
       "    .dataframe tbody tr th {\n",
       "        vertical-align: top;\n",
       "    }\n",
       "\n",
       "    .dataframe thead th {\n",
       "        text-align: right;\n",
       "    }\n",
       "</style>\n",
       "<table border=\"1\" class=\"dataframe\">\n",
       "  <thead>\n",
       "    <tr style=\"text-align: right;\">\n",
       "      <th></th>\n",
       "      <th>State</th>\n",
       "      <th>Region</th>\n",
       "      <th>average_lat</th>\n",
       "      <th>average_long</th>\n",
       "      <th>total_confirmed</th>\n",
       "      <th>total_deaths</th>\n",
       "      <th>average_case_fatality_ratio</th>\n",
       "    </tr>\n",
       "  </thead>\n",
       "  <tbody>\n",
       "    <tr>\n",
       "      <th>0</th>\n",
       "      <td>Oklahoma</td>\n",
       "      <td>Southwest</td>\n",
       "      <td>35.502</td>\n",
       "      <td>-97.251</td>\n",
       "      <td>291209</td>\n",
       "      <td>2489</td>\n",
       "      <td>0.930</td>\n",
       "    </tr>\n",
       "    <tr>\n",
       "      <th>2</th>\n",
       "      <td>Nebraska</td>\n",
       "      <td>Midwest</td>\n",
       "      <td>41.322</td>\n",
       "      <td>-99.039</td>\n",
       "      <td>167716</td>\n",
       "      <td>1668</td>\n",
       "      <td>1.396</td>\n",
       "    </tr>\n",
       "    <tr>\n",
       "      <th>3</th>\n",
       "      <td>South Carolina</td>\n",
       "      <td>Southeast</td>\n",
       "      <td>33.957</td>\n",
       "      <td>-80.983</td>\n",
       "      <td>307507</td>\n",
       "      <td>5296</td>\n",
       "      <td>2.186</td>\n",
       "    </tr>\n",
       "    <tr>\n",
       "      <th>5</th>\n",
       "      <td>Mississippi</td>\n",
       "      <td>Southeast</td>\n",
       "      <td>32.793</td>\n",
       "      <td>-89.646</td>\n",
       "      <td>218386</td>\n",
       "      <td>4816</td>\n",
       "      <td>2.509</td>\n",
       "    </tr>\n",
       "    <tr>\n",
       "      <th>7</th>\n",
       "      <td>Virginia</td>\n",
       "      <td>Southeast</td>\n",
       "      <td>37.566</td>\n",
       "      <td>-78.514</td>\n",
       "      <td>354766</td>\n",
       "      <td>5081</td>\n",
       "      <td>1.663</td>\n",
       "    </tr>\n",
       "    <tr>\n",
       "      <th>8</th>\n",
       "      <td>Vermont</td>\n",
       "      <td>Northeast</td>\n",
       "      <td>44.159</td>\n",
       "      <td>-72.684</td>\n",
       "      <td>7412</td>\n",
       "      <td>136</td>\n",
       "      <td>1.171</td>\n",
       "    </tr>\n",
       "    <tr>\n",
       "      <th>9</th>\n",
       "      <td>Florida</td>\n",
       "      <td>Southeast</td>\n",
       "      <td>28.941</td>\n",
       "      <td>-82.701</td>\n",
       "      <td>1323315</td>\n",
       "      <td>21673</td>\n",
       "      <td>1.803</td>\n",
       "    </tr>\n",
       "    <tr>\n",
       "      <th>10</th>\n",
       "      <td>New Mexico</td>\n",
       "      <td>Southwest</td>\n",
       "      <td>34.549</td>\n",
       "      <td>-105.887</td>\n",
       "      <td>144142</td>\n",
       "      <td>2502</td>\n",
       "      <td>2.069</td>\n",
       "    </tr>\n",
       "    <tr>\n",
       "      <th>11</th>\n",
       "      <td>Oregon</td>\n",
       "      <td>Pacific</td>\n",
       "      <td>44.492</td>\n",
       "      <td>-121.477</td>\n",
       "      <td>113909</td>\n",
       "      <td>1477</td>\n",
       "      <td>1.521</td>\n",
       "    </tr>\n",
       "    <tr>\n",
       "      <th>12</th>\n",
       "      <td>Kentucky</td>\n",
       "      <td>Southeast</td>\n",
       "      <td>37.622</td>\n",
       "      <td>-85.200</td>\n",
       "      <td>265261</td>\n",
       "      <td>2623</td>\n",
       "      <td>1.131</td>\n",
       "    </tr>\n",
       "  </tbody>\n",
       "</table>\n",
       "</div>"
      ],
      "text/plain": [
       "             State     Region  average_lat  average_long  total_confirmed  \\\n",
       "0         Oklahoma  Southwest       35.502       -97.251           291209   \n",
       "2         Nebraska    Midwest       41.322       -99.039           167716   \n",
       "3   South Carolina  Southeast       33.957       -80.983           307507   \n",
       "5      Mississippi  Southeast       32.793       -89.646           218386   \n",
       "7         Virginia  Southeast       37.566       -78.514           354766   \n",
       "8          Vermont  Northeast       44.159       -72.684             7412   \n",
       "9          Florida  Southeast       28.941       -82.701          1323315   \n",
       "10      New Mexico  Southwest       34.549      -105.887           144142   \n",
       "11          Oregon    Pacific       44.492      -121.477           113909   \n",
       "12        Kentucky  Southeast       37.622       -85.200           265261   \n",
       "\n",
       "    total_deaths  average_case_fatality_ratio  \n",
       "0           2489                        0.930  \n",
       "2           1668                        1.396  \n",
       "3           5296                        2.186  \n",
       "5           4816                        2.509  \n",
       "7           5081                        1.663  \n",
       "8            136                        1.171  \n",
       "9          21673                        1.803  \n",
       "10          2502                        2.069  \n",
       "11          1477                        1.521  \n",
       "12          2623                        1.131  "
      ]
     },
     "execution_count": 66,
     "metadata": {},
     "output_type": "execute_result"
    }
   ],
   "source": [
    "# Remove rows with NaNs\n",
    "result_df.dropna(inplace=True)\n",
    "\n",
    "# Print the number of rows in the DataFrame\n",
    "print(\"Rows in DataFrame:\", len(result_df))\n",
    "\n",
    "# Round decimal columns to 2 decimal places\n",
    "result_df = result_df.round(3)\n",
    "new_column_order = ['State', 'Region', 'average_lat','average_long','total_confirmed','total_deaths','average_case_fatality_ratio']\n",
    "\n",
    "result_df = result_df.reindex(columns=new_column_order)\n",
    "# Print the DataFrame\n",
    "result_df.head(10)\n",
    "# Print the DataFrame\n"
   ]
  },
  {
   "cell_type": "code",
   "execution_count": 71,
   "metadata": {},
   "outputs": [
    {
     "data": {
      "text/html": [
       "<div>\n",
       "<style scoped>\n",
       "    .dataframe tbody tr th:only-of-type {\n",
       "        vertical-align: middle;\n",
       "    }\n",
       "\n",
       "    .dataframe tbody tr th {\n",
       "        vertical-align: top;\n",
       "    }\n",
       "\n",
       "    .dataframe thead th {\n",
       "        text-align: right;\n",
       "    }\n",
       "</style>\n",
       "<table border=\"1\" class=\"dataframe\">\n",
       "  <thead>\n",
       "    <tr style=\"text-align: right;\">\n",
       "      <th></th>\n",
       "      <th>State</th>\n",
       "      <th>Region</th>\n",
       "      <th>lat</th>\n",
       "      <th>long</th>\n",
       "      <th>total_confirmed</th>\n",
       "      <th>total_deaths</th>\n",
       "      <th>average_case_fatality_ratio</th>\n",
       "    </tr>\n",
       "  </thead>\n",
       "  <tbody>\n",
       "    <tr>\n",
       "      <th>43</th>\n",
       "      <td>Alabama</td>\n",
       "      <td>Southeast</td>\n",
       "      <td>32.884</td>\n",
       "      <td>-86.710</td>\n",
       "      <td>365747</td>\n",
       "      <td>4872</td>\n",
       "      <td>1.678</td>\n",
       "    </tr>\n",
       "    <tr>\n",
       "      <th>49</th>\n",
       "      <td>Alaska</td>\n",
       "      <td>Pacific</td>\n",
       "      <td>60.348</td>\n",
       "      <td>-149.007</td>\n",
       "      <td>47019</td>\n",
       "      <td>206</td>\n",
       "      <td>0.502</td>\n",
       "    </tr>\n",
       "    <tr>\n",
       "      <th>54</th>\n",
       "      <td>Arizona</td>\n",
       "      <td>Southwest</td>\n",
       "      <td>33.676</td>\n",
       "      <td>-111.463</td>\n",
       "      <td>530267</td>\n",
       "      <td>9015</td>\n",
       "      <td>2.024</td>\n",
       "    </tr>\n",
       "    <tr>\n",
       "      <th>42</th>\n",
       "      <td>Arkansas</td>\n",
       "      <td>Southeast</td>\n",
       "      <td>34.912</td>\n",
       "      <td>-92.434</td>\n",
       "      <td>229442</td>\n",
       "      <td>3711</td>\n",
       "      <td>1.909</td>\n",
       "    </tr>\n",
       "    <tr>\n",
       "      <th>47</th>\n",
       "      <td>California</td>\n",
       "      <td>Pacific</td>\n",
       "      <td>37.844</td>\n",
       "      <td>-120.729</td>\n",
       "      <td>2434974</td>\n",
       "      <td>26298</td>\n",
       "      <td>0.859</td>\n",
       "    </tr>\n",
       "    <tr>\n",
       "      <th>13</th>\n",
       "      <td>Colorado</td>\n",
       "      <td>Rocky_Mountain</td>\n",
       "      <td>38.935</td>\n",
       "      <td>-105.486</td>\n",
       "      <td>362438</td>\n",
       "      <td>5435</td>\n",
       "      <td>1.442</td>\n",
       "    </tr>\n",
       "    <tr>\n",
       "      <th>57</th>\n",
       "      <td>Connecticut</td>\n",
       "      <td>Northeast</td>\n",
       "      <td>41.614</td>\n",
       "      <td>-72.657</td>\n",
       "      <td>185708</td>\n",
       "      <td>5995</td>\n",
       "      <td>2.547</td>\n",
       "    </tr>\n",
       "    <tr>\n",
       "      <th>29</th>\n",
       "      <td>Delaware</td>\n",
       "      <td>Northeast</td>\n",
       "      <td>39.109</td>\n",
       "      <td>-75.533</td>\n",
       "      <td>58064</td>\n",
       "      <td>1065</td>\n",
       "      <td>1.475</td>\n",
       "    </tr>\n",
       "    <tr>\n",
       "      <th>9</th>\n",
       "      <td>Florida</td>\n",
       "      <td>Southeast</td>\n",
       "      <td>28.941</td>\n",
       "      <td>-82.701</td>\n",
       "      <td>1323315</td>\n",
       "      <td>21673</td>\n",
       "      <td>1.803</td>\n",
       "    </tr>\n",
       "    <tr>\n",
       "      <th>22</th>\n",
       "      <td>Georgia</td>\n",
       "      <td>Southeast</td>\n",
       "      <td>32.809</td>\n",
       "      <td>-83.577</td>\n",
       "      <td>677589</td>\n",
       "      <td>10958</td>\n",
       "      <td>2.287</td>\n",
       "    </tr>\n",
       "  </tbody>\n",
       "</table>\n",
       "</div>"
      ],
      "text/plain": [
       "          State          Region     lat     long  total_confirmed  \\\n",
       "43      Alabama       Southeast  32.884  -86.710           365747   \n",
       "49       Alaska         Pacific  60.348 -149.007            47019   \n",
       "54      Arizona       Southwest  33.676 -111.463           530267   \n",
       "42     Arkansas       Southeast  34.912  -92.434           229442   \n",
       "47   California         Pacific  37.844 -120.729          2434974   \n",
       "13     Colorado  Rocky_Mountain  38.935 -105.486           362438   \n",
       "57  Connecticut       Northeast  41.614  -72.657           185708   \n",
       "29     Delaware       Northeast  39.109  -75.533            58064   \n",
       "9       Florida       Southeast  28.941  -82.701          1323315   \n",
       "22      Georgia       Southeast  32.809  -83.577           677589   \n",
       "\n",
       "    total_deaths  average_case_fatality_ratio  \n",
       "43          4872                        1.678  \n",
       "49           206                        0.502  \n",
       "54          9015                        2.024  \n",
       "42          3711                        1.909  \n",
       "47         26298                        0.859  \n",
       "13          5435                        1.442  \n",
       "57          5995                        2.547  \n",
       "29          1065                        1.475  \n",
       "9          21673                        1.803  \n",
       "22         10958                        2.287  "
      ]
     },
     "execution_count": 71,
     "metadata": {},
     "output_type": "execute_result"
    }
   ],
   "source": [
    "result_df.rename(columns={'average_lat': 'lat'}, inplace=True)\n",
    "result_df.rename(columns={'average_long': 'long'}, inplace=True)\n",
    "result_df = result_df.sort_values(by='State')\n",
    "result_df.head(10)"
   ]
  },
  {
   "cell_type": "code",
   "execution_count": 72,
   "metadata": {},
   "outputs": [],
   "source": [
    "# Assuming result_df is a pandas DataFrame\n",
    "results = result_df.to_dict(orient='records')\n",
    "\n",
    "# Convert results to JSON string\n",
    "results_json = json.dumps(results, indent=4)\n",
    "\n",
    "# Define the output file path\n",
    "output_file_path = 'Clean/clean_2021.json'\n",
    "\n",
    "# Write the JSON string to the output file\n",
    "with open(output_file_path, 'w') as output_file:\n",
    "    output_file.write(results_json)\n",
    "\n"
   ]
  }
 ],
 "metadata": {
  "kernelspec": {
   "display_name": "base",
   "language": "python",
   "name": "python3"
  },
  "language_info": {
   "codemirror_mode": {
    "name": "ipython",
    "version": 3
   },
   "file_extension": ".py",
   "mimetype": "text/x-python",
   "name": "python",
   "nbconvert_exporter": "python",
   "pygments_lexer": "ipython3",
   "version": "3.9.13"
  },
  "orig_nbformat": 4
 },
 "nbformat": 4,
 "nbformat_minor": 2
}
